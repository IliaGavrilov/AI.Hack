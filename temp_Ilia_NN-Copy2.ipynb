{
 "cells": [
  {
   "cell_type": "code",
   "execution_count": 1,
   "metadata": {},
   "outputs": [],
   "source": [
    "%matplotlib inline\n",
    "from __future__ import division, print_function"
   ]
  },
  {
   "cell_type": "code",
   "execution_count": 2,
   "metadata": {},
   "outputs": [],
   "source": [
    "import numpy as np\n",
    "from numpy.random import random\n",
    "from matplotlib import pyplot as plt\n",
    "import pandas as pd"
   ]
  },
  {
   "cell_type": "code",
   "execution_count": 3,
   "metadata": {},
   "outputs": [
    {
     "name": "stdout",
     "output_type": "stream",
     "text": [
      "C:\\Users\\Gavrilov\\AI.Hack\\preprocessed_dataset\n"
     ]
    }
   ],
   "source": [
    "#%cd C:/Users/Gavrilov/AI.Hack/preprocessed_dataset"
   ]
  },
  {
   "cell_type": "markdown",
   "metadata": {},
   "source": [
    "### preprocessed dataset loadup"
   ]
  },
  {
   "cell_type": "code",
   "execution_count": 3,
   "metadata": {},
   "outputs": [],
   "source": [
    "train_10 = pd.read_csv('train_data_mega_set_10_base.csv', index_col = 'Unnamed: 0').iloc[2:,:]\n",
    "X_train_10 = train_10.drop(['proba'], axis = 1)\n",
    "y_train_10 = train_10['proba']"
   ]
  },
  {
   "cell_type": "code",
   "execution_count": 4,
   "metadata": {},
   "outputs": [
    {
     "data": {
      "text/plain": [
       "((59602, 85), (59602,))"
      ]
     },
     "execution_count": 4,
     "metadata": {},
     "output_type": "execute_result"
    }
   ],
   "source": [
    "X_train_10.shape, y_train_10.shape"
   ]
  },
  {
   "cell_type": "code",
   "execution_count": 5,
   "metadata": {},
   "outputs": [
    {
     "data": {
      "text/html": [
       "<div>\n",
       "<style scoped>\n",
       "    .dataframe tbody tr th:only-of-type {\n",
       "        vertical-align: middle;\n",
       "    }\n",
       "\n",
       "    .dataframe tbody tr th {\n",
       "        vertical-align: top;\n",
       "    }\n",
       "\n",
       "    .dataframe thead th {\n",
       "        text-align: right;\n",
       "    }\n",
       "</style>\n",
       "<table border=\"1\" class=\"dataframe\">\n",
       "  <thead>\n",
       "    <tr style=\"text-align: right;\">\n",
       "      <th></th>\n",
       "      <th>petrol_volume</th>\n",
       "      <th>petrol_volume.1</th>\n",
       "      <th>petrol_volume.2</th>\n",
       "      <th>petrol_volume.3</th>\n",
       "      <th>petrol_volume.4</th>\n",
       "      <th>petrol_volume.5</th>\n",
       "      <th>petrol_volume.6</th>\n",
       "      <th>petrol_volume.7</th>\n",
       "      <th>petrol_volume.8</th>\n",
       "      <th>petrol_volume.9</th>\n",
       "      <th>...</th>\n",
       "      <th>discount.12</th>\n",
       "      <th>discount.13</th>\n",
       "      <th>discount.14</th>\n",
       "      <th>discount.15</th>\n",
       "      <th>discount.16</th>\n",
       "      <th>discount.17</th>\n",
       "      <th>discount.18</th>\n",
       "      <th>discount.19</th>\n",
       "      <th>discount.20</th>\n",
       "      <th>age</th>\n",
       "    </tr>\n",
       "  </thead>\n",
       "  <tbody>\n",
       "    <tr>\n",
       "      <th>21-186G-1161</th>\n",
       "      <td>0.00</td>\n",
       "      <td>0.00</td>\n",
       "      <td>49.68</td>\n",
       "      <td>74.25</td>\n",
       "      <td>0.00</td>\n",
       "      <td>0.00</td>\n",
       "      <td>50.64</td>\n",
       "      <td>0.00</td>\n",
       "      <td>0.00</td>\n",
       "      <td>157.59</td>\n",
       "      <td>...</td>\n",
       "      <td>0.0</td>\n",
       "      <td>0.00</td>\n",
       "      <td>0.00</td>\n",
       "      <td>0.00</td>\n",
       "      <td>0.29</td>\n",
       "      <td>0.06</td>\n",
       "      <td>0.00</td>\n",
       "      <td>0.00</td>\n",
       "      <td>0.00</td>\n",
       "      <td>20.0</td>\n",
       "    </tr>\n",
       "    <tr>\n",
       "      <th>21-186G-1172</th>\n",
       "      <td>0.00</td>\n",
       "      <td>0.00</td>\n",
       "      <td>0.00</td>\n",
       "      <td>0.00</td>\n",
       "      <td>0.00</td>\n",
       "      <td>0.00</td>\n",
       "      <td>0.00</td>\n",
       "      <td>0.00</td>\n",
       "      <td>0.00</td>\n",
       "      <td>0.00</td>\n",
       "      <td>...</td>\n",
       "      <td>0.2</td>\n",
       "      <td>0.19</td>\n",
       "      <td>0.37</td>\n",
       "      <td>0.18</td>\n",
       "      <td>0.89</td>\n",
       "      <td>0.32</td>\n",
       "      <td>0.09</td>\n",
       "      <td>0.31</td>\n",
       "      <td>0.39</td>\n",
       "      <td>23.0</td>\n",
       "    </tr>\n",
       "    <tr>\n",
       "      <th>21-186G-1190</th>\n",
       "      <td>12.42</td>\n",
       "      <td>13.45</td>\n",
       "      <td>0.00</td>\n",
       "      <td>0.00</td>\n",
       "      <td>0.00</td>\n",
       "      <td>7.96</td>\n",
       "      <td>0.00</td>\n",
       "      <td>0.00</td>\n",
       "      <td>0.00</td>\n",
       "      <td>10.66</td>\n",
       "      <td>...</td>\n",
       "      <td>0.0</td>\n",
       "      <td>0.00</td>\n",
       "      <td>0.43</td>\n",
       "      <td>0.22</td>\n",
       "      <td>0.29</td>\n",
       "      <td>0.13</td>\n",
       "      <td>0.00</td>\n",
       "      <td>17.72</td>\n",
       "      <td>454.52</td>\n",
       "      <td>23.0</td>\n",
       "    </tr>\n",
       "    <tr>\n",
       "      <th>21-186G-1193</th>\n",
       "      <td>43.27</td>\n",
       "      <td>21.51</td>\n",
       "      <td>48.19</td>\n",
       "      <td>19.95</td>\n",
       "      <td>10.86</td>\n",
       "      <td>26.57</td>\n",
       "      <td>0.00</td>\n",
       "      <td>5.21</td>\n",
       "      <td>36.47</td>\n",
       "      <td>52.94</td>\n",
       "      <td>...</td>\n",
       "      <td>0.0</td>\n",
       "      <td>0.00</td>\n",
       "      <td>0.00</td>\n",
       "      <td>0.00</td>\n",
       "      <td>0.00</td>\n",
       "      <td>0.00</td>\n",
       "      <td>0.00</td>\n",
       "      <td>0.00</td>\n",
       "      <td>0.00</td>\n",
       "      <td>21.0</td>\n",
       "    </tr>\n",
       "    <tr>\n",
       "      <th>21-186G-12</th>\n",
       "      <td>0.00</td>\n",
       "      <td>72.79</td>\n",
       "      <td>115.95</td>\n",
       "      <td>96.03</td>\n",
       "      <td>145.87</td>\n",
       "      <td>30.18</td>\n",
       "      <td>48.09</td>\n",
       "      <td>165.69</td>\n",
       "      <td>137.90</td>\n",
       "      <td>100.85</td>\n",
       "      <td>...</td>\n",
       "      <td>0.0</td>\n",
       "      <td>1405.82</td>\n",
       "      <td>0.00</td>\n",
       "      <td>0.00</td>\n",
       "      <td>0.00</td>\n",
       "      <td>50.00</td>\n",
       "      <td>0.00</td>\n",
       "      <td>0.27</td>\n",
       "      <td>0.40</td>\n",
       "      <td>7.0</td>\n",
       "    </tr>\n",
       "  </tbody>\n",
       "</table>\n",
       "<p>5 rows × 85 columns</p>\n",
       "</div>"
      ],
      "text/plain": [
       "              petrol_volume  petrol_volume.1  petrol_volume.2  \\\n",
       "21-186G-1161           0.00             0.00            49.68   \n",
       "21-186G-1172           0.00             0.00             0.00   \n",
       "21-186G-1190          12.42            13.45             0.00   \n",
       "21-186G-1193          43.27            21.51            48.19   \n",
       "21-186G-12             0.00            72.79           115.95   \n",
       "\n",
       "              petrol_volume.3  petrol_volume.4  petrol_volume.5  \\\n",
       "21-186G-1161            74.25             0.00             0.00   \n",
       "21-186G-1172             0.00             0.00             0.00   \n",
       "21-186G-1190             0.00             0.00             7.96   \n",
       "21-186G-1193            19.95            10.86            26.57   \n",
       "21-186G-12              96.03           145.87            30.18   \n",
       "\n",
       "              petrol_volume.6  petrol_volume.7  petrol_volume.8  \\\n",
       "21-186G-1161            50.64             0.00             0.00   \n",
       "21-186G-1172             0.00             0.00             0.00   \n",
       "21-186G-1190             0.00             0.00             0.00   \n",
       "21-186G-1193             0.00             5.21            36.47   \n",
       "21-186G-12              48.09           165.69           137.90   \n",
       "\n",
       "              petrol_volume.9  ...   discount.12  discount.13  discount.14  \\\n",
       "21-186G-1161           157.59  ...           0.0         0.00         0.00   \n",
       "21-186G-1172             0.00  ...           0.2         0.19         0.37   \n",
       "21-186G-1190            10.66  ...           0.0         0.00         0.43   \n",
       "21-186G-1193            52.94  ...           0.0         0.00         0.00   \n",
       "21-186G-12             100.85  ...           0.0      1405.82         0.00   \n",
       "\n",
       "              discount.15  discount.16  discount.17  discount.18  discount.19  \\\n",
       "21-186G-1161         0.00         0.29         0.06         0.00         0.00   \n",
       "21-186G-1172         0.18         0.89         0.32         0.09         0.31   \n",
       "21-186G-1190         0.22         0.29         0.13         0.00        17.72   \n",
       "21-186G-1193         0.00         0.00         0.00         0.00         0.00   \n",
       "21-186G-12           0.00         0.00        50.00         0.00         0.27   \n",
       "\n",
       "              discount.20   age  \n",
       "21-186G-1161         0.00  20.0  \n",
       "21-186G-1172         0.39  23.0  \n",
       "21-186G-1190       454.52  23.0  \n",
       "21-186G-1193         0.00  21.0  \n",
       "21-186G-12           0.40   7.0  \n",
       "\n",
       "[5 rows x 85 columns]"
      ]
     },
     "execution_count": 5,
     "metadata": {},
     "output_type": "execute_result"
    }
   ],
   "source": [
    "X_train_10.head()"
   ]
  },
  {
   "cell_type": "code",
   "execution_count": 6,
   "metadata": {},
   "outputs": [
    {
     "data": {
      "text/plain": [
       "Index(['petrol_volume', 'petrol_volume.1', 'petrol_volume.2',\n",
       "       'petrol_volume.3', 'petrol_volume.4', 'petrol_volume.5',\n",
       "       'petrol_volume.6', 'petrol_volume.7', 'petrol_volume.8',\n",
       "       'petrol_volume.9', 'petrol_volume.10', 'petrol_volume.11',\n",
       "       'petrol_volume.12', 'petrol_volume.13', 'petrol_volume.14',\n",
       "       'petrol_volume.15', 'petrol_volume.16', 'petrol_volume.17',\n",
       "       'petrol_volume.18', 'petrol_volume.19', 'petrol_volume.20',\n",
       "       'snack_quant', 'snack_quant.1', 'snack_quant.2', 'snack_quant.3',\n",
       "       'snack_quant.4', 'snack_quant.5', 'snack_quant.6', 'snack_quant.7',\n",
       "       'snack_quant.8', 'snack_quant.9', 'snack_quant.10', 'snack_quant.11',\n",
       "       'snack_quant.12', 'snack_quant.13', 'snack_quant.14', 'snack_quant.15',\n",
       "       'snack_quant.16', 'snack_quant.17', 'snack_quant.18', 'snack_quant.19',\n",
       "       'snack_quant.20', 'sum', 'sum.1', 'sum.2', 'sum.3', 'sum.4', 'sum.5',\n",
       "       'sum.6', 'sum.7', 'sum.8', 'sum.9', 'sum.10', 'sum.11', 'sum.12',\n",
       "       'sum.13', 'sum.14', 'sum.15', 'sum.16', 'sum.17', 'sum.18', 'sum.19',\n",
       "       'sum.20', 'discount', 'discount.1', 'discount.2', 'discount.3',\n",
       "       'discount.4', 'discount.5', 'discount.6', 'discount.7', 'discount.8',\n",
       "       'discount.9', 'discount.10', 'discount.11', 'discount.12',\n",
       "       'discount.13', 'discount.14', 'discount.15', 'discount.16',\n",
       "       'discount.17', 'discount.18', 'discount.19', 'discount.20', 'age'],\n",
       "      dtype='object')"
      ]
     },
     "execution_count": 6,
     "metadata": {},
     "output_type": "execute_result"
    }
   ],
   "source": [
    "X_train_10.columns"
   ]
  },
  {
   "cell_type": "code",
   "execution_count": 7,
   "metadata": {},
   "outputs": [
    {
     "data": {
      "text/plain": [
       "21-186G-1161    0.0\n",
       "21-186G-1172    0.0\n",
       "21-186G-1190    0.0\n",
       "21-186G-1193    0.0\n",
       "21-186G-12      0.0\n",
       "Name: proba, dtype: float64"
      ]
     },
     "execution_count": 7,
     "metadata": {},
     "output_type": "execute_result"
    }
   ],
   "source": [
    "y_train_10.head()"
   ]
  },
  {
   "cell_type": "code",
   "execution_count": 8,
   "metadata": {},
   "outputs": [],
   "source": [
    "from pandas_summary import DataFrameSummary"
   ]
  },
  {
   "cell_type": "code",
   "execution_count": 9,
   "metadata": {
    "scrolled": true
   },
   "outputs": [
    {
     "data": {
      "text/html": [
       "<div>\n",
       "<style scoped>\n",
       "    .dataframe tbody tr th:only-of-type {\n",
       "        vertical-align: middle;\n",
       "    }\n",
       "\n",
       "    .dataframe tbody tr th {\n",
       "        vertical-align: top;\n",
       "    }\n",
       "\n",
       "    .dataframe thead th {\n",
       "        text-align: right;\n",
       "    }\n",
       "</style>\n",
       "<table border=\"1\" class=\"dataframe\">\n",
       "  <thead>\n",
       "    <tr style=\"text-align: right;\">\n",
       "      <th></th>\n",
       "      <th>petrol_volume</th>\n",
       "      <th>petrol_volume.1</th>\n",
       "      <th>petrol_volume.2</th>\n",
       "      <th>petrol_volume.3</th>\n",
       "      <th>petrol_volume.4</th>\n",
       "      <th>petrol_volume.5</th>\n",
       "      <th>petrol_volume.6</th>\n",
       "      <th>petrol_volume.7</th>\n",
       "      <th>petrol_volume.8</th>\n",
       "      <th>petrol_volume.9</th>\n",
       "      <th>...</th>\n",
       "      <th>discount.12</th>\n",
       "      <th>discount.13</th>\n",
       "      <th>discount.14</th>\n",
       "      <th>discount.15</th>\n",
       "      <th>discount.16</th>\n",
       "      <th>discount.17</th>\n",
       "      <th>discount.18</th>\n",
       "      <th>discount.19</th>\n",
       "      <th>discount.20</th>\n",
       "      <th>age</th>\n",
       "    </tr>\n",
       "  </thead>\n",
       "  <tbody>\n",
       "    <tr>\n",
       "      <th>count</th>\n",
       "      <td>59602</td>\n",
       "      <td>59602</td>\n",
       "      <td>59602</td>\n",
       "      <td>59602</td>\n",
       "      <td>59602</td>\n",
       "      <td>59602</td>\n",
       "      <td>59602</td>\n",
       "      <td>59602</td>\n",
       "      <td>59602</td>\n",
       "      <td>59602</td>\n",
       "      <td>...</td>\n",
       "      <td>59602</td>\n",
       "      <td>59602</td>\n",
       "      <td>59602</td>\n",
       "      <td>59602</td>\n",
       "      <td>59602</td>\n",
       "      <td>59602</td>\n",
       "      <td>59602</td>\n",
       "      <td>59602</td>\n",
       "      <td>59602</td>\n",
       "      <td>59602</td>\n",
       "    </tr>\n",
       "    <tr>\n",
       "      <th>mean</th>\n",
       "      <td>9.95203</td>\n",
       "      <td>21.2387</td>\n",
       "      <td>37.4209</td>\n",
       "      <td>47.8983</td>\n",
       "      <td>53.9944</td>\n",
       "      <td>54.1067</td>\n",
       "      <td>57.8235</td>\n",
       "      <td>60.5096</td>\n",
       "      <td>63.2305</td>\n",
       "      <td>68.0839</td>\n",
       "      <td>...</td>\n",
       "      <td>146.365</td>\n",
       "      <td>104.311</td>\n",
       "      <td>100.857</td>\n",
       "      <td>86.9154</td>\n",
       "      <td>110.134</td>\n",
       "      <td>112.429</td>\n",
       "      <td>121.607</td>\n",
       "      <td>127.75</td>\n",
       "      <td>109.618</td>\n",
       "      <td>19.991</td>\n",
       "    </tr>\n",
       "    <tr>\n",
       "      <th>std</th>\n",
       "      <td>34.1512</td>\n",
       "      <td>56.7248</td>\n",
       "      <td>82.1893</td>\n",
       "      <td>87.6159</td>\n",
       "      <td>94.8317</td>\n",
       "      <td>95.1425</td>\n",
       "      <td>98.0846</td>\n",
       "      <td>102.319</td>\n",
       "      <td>104.282</td>\n",
       "      <td>108.379</td>\n",
       "      <td>...</td>\n",
       "      <td>377.224</td>\n",
       "      <td>309.844</td>\n",
       "      <td>300.284</td>\n",
       "      <td>271.765</td>\n",
       "      <td>312.612</td>\n",
       "      <td>320.381</td>\n",
       "      <td>342.129</td>\n",
       "      <td>347.05</td>\n",
       "      <td>323.301</td>\n",
       "      <td>4.5632</td>\n",
       "    </tr>\n",
       "    <tr>\n",
       "      <th>min</th>\n",
       "      <td>0</td>\n",
       "      <td>0</td>\n",
       "      <td>-0.01</td>\n",
       "      <td>0</td>\n",
       "      <td>0</td>\n",
       "      <td>0</td>\n",
       "      <td>0</td>\n",
       "      <td>0</td>\n",
       "      <td>0</td>\n",
       "      <td>-1131.95</td>\n",
       "      <td>...</td>\n",
       "      <td>-322.73</td>\n",
       "      <td>-90</td>\n",
       "      <td>-126.11</td>\n",
       "      <td>-727.27</td>\n",
       "      <td>-126.36</td>\n",
       "      <td>-644.55</td>\n",
       "      <td>-50</td>\n",
       "      <td>-50</td>\n",
       "      <td>-3.64</td>\n",
       "      <td>0</td>\n",
       "    </tr>\n",
       "    <tr>\n",
       "      <th>25%</th>\n",
       "      <td>0</td>\n",
       "      <td>0</td>\n",
       "      <td>0</td>\n",
       "      <td>0</td>\n",
       "      <td>0</td>\n",
       "      <td>0</td>\n",
       "      <td>0</td>\n",
       "      <td>0</td>\n",
       "      <td>0</td>\n",
       "      <td>0</td>\n",
       "      <td>...</td>\n",
       "      <td>0</td>\n",
       "      <td>0</td>\n",
       "      <td>0</td>\n",
       "      <td>0</td>\n",
       "      <td>0</td>\n",
       "      <td>0</td>\n",
       "      <td>0</td>\n",
       "      <td>0</td>\n",
       "      <td>0</td>\n",
       "      <td>19</td>\n",
       "    </tr>\n",
       "    <tr>\n",
       "      <th>50%</th>\n",
       "      <td>0</td>\n",
       "      <td>0</td>\n",
       "      <td>0</td>\n",
       "      <td>0</td>\n",
       "      <td>0</td>\n",
       "      <td>0</td>\n",
       "      <td>10.47</td>\n",
       "      <td>18.18</td>\n",
       "      <td>24.7</td>\n",
       "      <td>27.27</td>\n",
       "      <td>...</td>\n",
       "      <td>0</td>\n",
       "      <td>0</td>\n",
       "      <td>0</td>\n",
       "      <td>0</td>\n",
       "      <td>0</td>\n",
       "      <td>0</td>\n",
       "      <td>0</td>\n",
       "      <td>0</td>\n",
       "      <td>0</td>\n",
       "      <td>22</td>\n",
       "    </tr>\n",
       "    <tr>\n",
       "      <th>75%</th>\n",
       "      <td>0</td>\n",
       "      <td>10.8</td>\n",
       "      <td>45.93</td>\n",
       "      <td>67.7475</td>\n",
       "      <td>78.6975</td>\n",
       "      <td>78.9</td>\n",
       "      <td>84.86</td>\n",
       "      <td>87.8675</td>\n",
       "      <td>91.78</td>\n",
       "      <td>99.38</td>\n",
       "      <td>...</td>\n",
       "      <td>6.36</td>\n",
       "      <td>0</td>\n",
       "      <td>0</td>\n",
       "      <td>0</td>\n",
       "      <td>0.15</td>\n",
       "      <td>0.16</td>\n",
       "      <td>0.25</td>\n",
       "      <td>23.94</td>\n",
       "      <td>0</td>\n",
       "      <td>23</td>\n",
       "    </tr>\n",
       "    <tr>\n",
       "      <th>max</th>\n",
       "      <td>1185.92</td>\n",
       "      <td>2373.99</td>\n",
       "      <td>2320.17</td>\n",
       "      <td>1687.75</td>\n",
       "      <td>2016.25</td>\n",
       "      <td>2172.9</td>\n",
       "      <td>2315.33</td>\n",
       "      <td>4302.36</td>\n",
       "      <td>3334.17</td>\n",
       "      <td>3633.62</td>\n",
       "      <td>...</td>\n",
       "      <td>7353.98</td>\n",
       "      <td>9295.04</td>\n",
       "      <td>8196.18</td>\n",
       "      <td>10361.7</td>\n",
       "      <td>10206.5</td>\n",
       "      <td>10553.1</td>\n",
       "      <td>6990.65</td>\n",
       "      <td>8158.25</td>\n",
       "      <td>11179.2</td>\n",
       "      <td>31</td>\n",
       "    </tr>\n",
       "    <tr>\n",
       "      <th>counts</th>\n",
       "      <td>59602</td>\n",
       "      <td>59602</td>\n",
       "      <td>59602</td>\n",
       "      <td>59602</td>\n",
       "      <td>59602</td>\n",
       "      <td>59602</td>\n",
       "      <td>59602</td>\n",
       "      <td>59602</td>\n",
       "      <td>59602</td>\n",
       "      <td>59602</td>\n",
       "      <td>...</td>\n",
       "      <td>59602</td>\n",
       "      <td>59602</td>\n",
       "      <td>59602</td>\n",
       "      <td>59602</td>\n",
       "      <td>59602</td>\n",
       "      <td>59602</td>\n",
       "      <td>59602</td>\n",
       "      <td>59602</td>\n",
       "      <td>59602</td>\n",
       "      <td>59602</td>\n",
       "    </tr>\n",
       "    <tr>\n",
       "      <th>uniques</th>\n",
       "      <td>5706</td>\n",
       "      <td>9196</td>\n",
       "      <td>13451</td>\n",
       "      <td>15810</td>\n",
       "      <td>17065</td>\n",
       "      <td>17295</td>\n",
       "      <td>18072</td>\n",
       "      <td>18409</td>\n",
       "      <td>18895</td>\n",
       "      <td>19602</td>\n",
       "      <td>...</td>\n",
       "      <td>9541</td>\n",
       "      <td>7990</td>\n",
       "      <td>8174</td>\n",
       "      <td>7470</td>\n",
       "      <td>8747</td>\n",
       "      <td>8630</td>\n",
       "      <td>8825</td>\n",
       "      <td>9322</td>\n",
       "      <td>8029</td>\n",
       "      <td>32</td>\n",
       "    </tr>\n",
       "    <tr>\n",
       "      <th>missing</th>\n",
       "      <td>0</td>\n",
       "      <td>0</td>\n",
       "      <td>0</td>\n",
       "      <td>0</td>\n",
       "      <td>0</td>\n",
       "      <td>0</td>\n",
       "      <td>0</td>\n",
       "      <td>0</td>\n",
       "      <td>0</td>\n",
       "      <td>0</td>\n",
       "      <td>...</td>\n",
       "      <td>0</td>\n",
       "      <td>0</td>\n",
       "      <td>0</td>\n",
       "      <td>0</td>\n",
       "      <td>0</td>\n",
       "      <td>0</td>\n",
       "      <td>0</td>\n",
       "      <td>0</td>\n",
       "      <td>0</td>\n",
       "      <td>0</td>\n",
       "    </tr>\n",
       "    <tr>\n",
       "      <th>missing_perc</th>\n",
       "      <td>0%</td>\n",
       "      <td>0%</td>\n",
       "      <td>0%</td>\n",
       "      <td>0%</td>\n",
       "      <td>0%</td>\n",
       "      <td>0%</td>\n",
       "      <td>0%</td>\n",
       "      <td>0%</td>\n",
       "      <td>0%</td>\n",
       "      <td>0%</td>\n",
       "      <td>...</td>\n",
       "      <td>0%</td>\n",
       "      <td>0%</td>\n",
       "      <td>0%</td>\n",
       "      <td>0%</td>\n",
       "      <td>0%</td>\n",
       "      <td>0%</td>\n",
       "      <td>0%</td>\n",
       "      <td>0%</td>\n",
       "      <td>0%</td>\n",
       "      <td>0%</td>\n",
       "    </tr>\n",
       "    <tr>\n",
       "      <th>types</th>\n",
       "      <td>numeric</td>\n",
       "      <td>numeric</td>\n",
       "      <td>numeric</td>\n",
       "      <td>numeric</td>\n",
       "      <td>numeric</td>\n",
       "      <td>numeric</td>\n",
       "      <td>numeric</td>\n",
       "      <td>numeric</td>\n",
       "      <td>numeric</td>\n",
       "      <td>numeric</td>\n",
       "      <td>...</td>\n",
       "      <td>numeric</td>\n",
       "      <td>numeric</td>\n",
       "      <td>numeric</td>\n",
       "      <td>numeric</td>\n",
       "      <td>numeric</td>\n",
       "      <td>numeric</td>\n",
       "      <td>numeric</td>\n",
       "      <td>numeric</td>\n",
       "      <td>numeric</td>\n",
       "      <td>numeric</td>\n",
       "    </tr>\n",
       "  </tbody>\n",
       "</table>\n",
       "<p>13 rows × 85 columns</p>\n",
       "</div>"
      ],
      "text/plain": [
       "             petrol_volume petrol_volume.1 petrol_volume.2 petrol_volume.3  \\\n",
       "count                59602           59602           59602           59602   \n",
       "mean               9.95203         21.2387         37.4209         47.8983   \n",
       "std                34.1512         56.7248         82.1893         87.6159   \n",
       "min                      0               0           -0.01               0   \n",
       "25%                      0               0               0               0   \n",
       "50%                      0               0               0               0   \n",
       "75%                      0            10.8           45.93         67.7475   \n",
       "max                1185.92         2373.99         2320.17         1687.75   \n",
       "counts               59602           59602           59602           59602   \n",
       "uniques               5706            9196           13451           15810   \n",
       "missing                  0               0               0               0   \n",
       "missing_perc            0%              0%              0%              0%   \n",
       "types              numeric         numeric         numeric         numeric   \n",
       "\n",
       "             petrol_volume.4 petrol_volume.5 petrol_volume.6 petrol_volume.7  \\\n",
       "count                  59602           59602           59602           59602   \n",
       "mean                 53.9944         54.1067         57.8235         60.5096   \n",
       "std                  94.8317         95.1425         98.0846         102.319   \n",
       "min                        0               0               0               0   \n",
       "25%                        0               0               0               0   \n",
       "50%                        0               0           10.47           18.18   \n",
       "75%                  78.6975            78.9           84.86         87.8675   \n",
       "max                  2016.25          2172.9         2315.33         4302.36   \n",
       "counts                 59602           59602           59602           59602   \n",
       "uniques                17065           17295           18072           18409   \n",
       "missing                    0               0               0               0   \n",
       "missing_perc              0%              0%              0%              0%   \n",
       "types                numeric         numeric         numeric         numeric   \n",
       "\n",
       "             petrol_volume.8 petrol_volume.9   ...    discount.12 discount.13  \\\n",
       "count                  59602           59602   ...          59602       59602   \n",
       "mean                 63.2305         68.0839   ...        146.365     104.311   \n",
       "std                  104.282         108.379   ...        377.224     309.844   \n",
       "min                        0        -1131.95   ...        -322.73         -90   \n",
       "25%                        0               0   ...              0           0   \n",
       "50%                     24.7           27.27   ...              0           0   \n",
       "75%                    91.78           99.38   ...           6.36           0   \n",
       "max                  3334.17         3633.62   ...        7353.98     9295.04   \n",
       "counts                 59602           59602   ...          59602       59602   \n",
       "uniques                18895           19602   ...           9541        7990   \n",
       "missing                    0               0   ...              0           0   \n",
       "missing_perc              0%              0%   ...             0%          0%   \n",
       "types                numeric         numeric   ...        numeric     numeric   \n",
       "\n",
       "             discount.14 discount.15 discount.16 discount.17 discount.18  \\\n",
       "count              59602       59602       59602       59602       59602   \n",
       "mean             100.857     86.9154     110.134     112.429     121.607   \n",
       "std              300.284     271.765     312.612     320.381     342.129   \n",
       "min              -126.11     -727.27     -126.36     -644.55         -50   \n",
       "25%                    0           0           0           0           0   \n",
       "50%                    0           0           0           0           0   \n",
       "75%                    0           0        0.15        0.16        0.25   \n",
       "max              8196.18     10361.7     10206.5     10553.1     6990.65   \n",
       "counts             59602       59602       59602       59602       59602   \n",
       "uniques             8174        7470        8747        8630        8825   \n",
       "missing                0           0           0           0           0   \n",
       "missing_perc          0%          0%          0%          0%          0%   \n",
       "types            numeric     numeric     numeric     numeric     numeric   \n",
       "\n",
       "             discount.19 discount.20      age  \n",
       "count              59602       59602    59602  \n",
       "mean              127.75     109.618   19.991  \n",
       "std               347.05     323.301   4.5632  \n",
       "min                  -50       -3.64        0  \n",
       "25%                    0           0       19  \n",
       "50%                    0           0       22  \n",
       "75%                23.94           0       23  \n",
       "max              8158.25     11179.2       31  \n",
       "counts             59602       59602    59602  \n",
       "uniques             9322        8029       32  \n",
       "missing                0           0        0  \n",
       "missing_perc          0%          0%       0%  \n",
       "types            numeric     numeric  numeric  \n",
       "\n",
       "[13 rows x 85 columns]"
      ]
     },
     "metadata": {},
     "output_type": "display_data"
    }
   ],
   "source": [
    "display(DataFrameSummary(X_train_10).summary())"
   ]
  },
  {
   "cell_type": "code",
   "execution_count": 10,
   "metadata": {},
   "outputs": [],
   "source": [
    "test_10 = pd.read_csv('test_data_mega_set_10_base.csv', index_col = 'Unnamed: 0').iloc[2:,:]\n",
    "X_test_10 = test_10.drop(['proba'], axis = 1)\n",
    "y_test_10 = test_10['proba']"
   ]
  },
  {
   "cell_type": "code",
   "execution_count": 11,
   "metadata": {},
   "outputs": [
    {
     "data": {
      "text/plain": [
       "((31118, 85), (31118,))"
      ]
     },
     "execution_count": 11,
     "metadata": {},
     "output_type": "execute_result"
    }
   ],
   "source": [
    "X_test_10.shape, y_test_10.shape"
   ]
  },
  {
   "cell_type": "markdown",
   "metadata": {},
   "source": [
    "### Create features"
   ]
  },
  {
   "cell_type": "code",
   "execution_count": 12,
   "metadata": {},
   "outputs": [],
   "source": [
    "from sklearn_pandas import DataFrameMapper\n",
    "from sklearn.preprocessing import StandardScaler"
   ]
  },
  {
   "cell_type": "code",
   "execution_count": 13,
   "metadata": {},
   "outputs": [],
   "source": [
    "contin_vars = list(X_train_10.columns)"
   ]
  },
  {
   "cell_type": "code",
   "execution_count": 14,
   "metadata": {},
   "outputs": [],
   "source": [
    "contin_maps = [([o], StandardScaler()) for o in contin_vars]"
   ]
  },
  {
   "cell_type": "code",
   "execution_count": 15,
   "metadata": {},
   "outputs": [],
   "source": [
    "contin_mapper = DataFrameMapper(contin_maps)\n",
    "contin_map_fit = contin_mapper.fit(X_train_10)"
   ]
  },
  {
   "cell_type": "code",
   "execution_count": 16,
   "metadata": {},
   "outputs": [
    {
     "data": {
      "text/plain": [
       "85"
      ]
     },
     "execution_count": 16,
     "metadata": {},
     "output_type": "execute_result"
    }
   ],
   "source": [
    "contin_cols = len(contin_map_fit.features)\n",
    "contin_cols"
   ]
  },
  {
   "cell_type": "code",
   "execution_count": 17,
   "metadata": {},
   "outputs": [
    {
     "data": {
      "text/html": [
       "<div>\n",
       "<style scoped>\n",
       "    .dataframe tbody tr th:only-of-type {\n",
       "        vertical-align: middle;\n",
       "    }\n",
       "\n",
       "    .dataframe tbody tr th {\n",
       "        vertical-align: top;\n",
       "    }\n",
       "\n",
       "    .dataframe thead th {\n",
       "        text-align: right;\n",
       "    }\n",
       "</style>\n",
       "<table border=\"1\" class=\"dataframe\">\n",
       "  <thead>\n",
       "    <tr style=\"text-align: right;\">\n",
       "      <th></th>\n",
       "      <th>petrol_volume</th>\n",
       "      <th>petrol_volume.1</th>\n",
       "      <th>petrol_volume.2</th>\n",
       "      <th>petrol_volume.3</th>\n",
       "      <th>petrol_volume.4</th>\n",
       "      <th>petrol_volume.5</th>\n",
       "      <th>petrol_volume.6</th>\n",
       "      <th>petrol_volume.7</th>\n",
       "      <th>petrol_volume.8</th>\n",
       "      <th>petrol_volume.9</th>\n",
       "      <th>...</th>\n",
       "      <th>discount.12</th>\n",
       "      <th>discount.13</th>\n",
       "      <th>discount.14</th>\n",
       "      <th>discount.15</th>\n",
       "      <th>discount.16</th>\n",
       "      <th>discount.17</th>\n",
       "      <th>discount.18</th>\n",
       "      <th>discount.19</th>\n",
       "      <th>discount.20</th>\n",
       "      <th>age</th>\n",
       "    </tr>\n",
       "  </thead>\n",
       "  <tbody>\n",
       "    <tr>\n",
       "      <th>21-186G-1161</th>\n",
       "      <td>0.00</td>\n",
       "      <td>0.00</td>\n",
       "      <td>49.68</td>\n",
       "      <td>74.25</td>\n",
       "      <td>0.00</td>\n",
       "      <td>0.00</td>\n",
       "      <td>50.64</td>\n",
       "      <td>0.00</td>\n",
       "      <td>0.00</td>\n",
       "      <td>157.59</td>\n",
       "      <td>...</td>\n",
       "      <td>0.0</td>\n",
       "      <td>0.00</td>\n",
       "      <td>0.00</td>\n",
       "      <td>0.00</td>\n",
       "      <td>0.29</td>\n",
       "      <td>0.06</td>\n",
       "      <td>0.00</td>\n",
       "      <td>0.00</td>\n",
       "      <td>0.00</td>\n",
       "      <td>20.0</td>\n",
       "    </tr>\n",
       "    <tr>\n",
       "      <th>21-186G-1172</th>\n",
       "      <td>0.00</td>\n",
       "      <td>0.00</td>\n",
       "      <td>0.00</td>\n",
       "      <td>0.00</td>\n",
       "      <td>0.00</td>\n",
       "      <td>0.00</td>\n",
       "      <td>0.00</td>\n",
       "      <td>0.00</td>\n",
       "      <td>0.00</td>\n",
       "      <td>0.00</td>\n",
       "      <td>...</td>\n",
       "      <td>0.2</td>\n",
       "      <td>0.19</td>\n",
       "      <td>0.37</td>\n",
       "      <td>0.18</td>\n",
       "      <td>0.89</td>\n",
       "      <td>0.32</td>\n",
       "      <td>0.09</td>\n",
       "      <td>0.31</td>\n",
       "      <td>0.39</td>\n",
       "      <td>23.0</td>\n",
       "    </tr>\n",
       "    <tr>\n",
       "      <th>21-186G-1190</th>\n",
       "      <td>12.42</td>\n",
       "      <td>13.45</td>\n",
       "      <td>0.00</td>\n",
       "      <td>0.00</td>\n",
       "      <td>0.00</td>\n",
       "      <td>7.96</td>\n",
       "      <td>0.00</td>\n",
       "      <td>0.00</td>\n",
       "      <td>0.00</td>\n",
       "      <td>10.66</td>\n",
       "      <td>...</td>\n",
       "      <td>0.0</td>\n",
       "      <td>0.00</td>\n",
       "      <td>0.43</td>\n",
       "      <td>0.22</td>\n",
       "      <td>0.29</td>\n",
       "      <td>0.13</td>\n",
       "      <td>0.00</td>\n",
       "      <td>17.72</td>\n",
       "      <td>454.52</td>\n",
       "      <td>23.0</td>\n",
       "    </tr>\n",
       "    <tr>\n",
       "      <th>21-186G-1193</th>\n",
       "      <td>43.27</td>\n",
       "      <td>21.51</td>\n",
       "      <td>48.19</td>\n",
       "      <td>19.95</td>\n",
       "      <td>10.86</td>\n",
       "      <td>26.57</td>\n",
       "      <td>0.00</td>\n",
       "      <td>5.21</td>\n",
       "      <td>36.47</td>\n",
       "      <td>52.94</td>\n",
       "      <td>...</td>\n",
       "      <td>0.0</td>\n",
       "      <td>0.00</td>\n",
       "      <td>0.00</td>\n",
       "      <td>0.00</td>\n",
       "      <td>0.00</td>\n",
       "      <td>0.00</td>\n",
       "      <td>0.00</td>\n",
       "      <td>0.00</td>\n",
       "      <td>0.00</td>\n",
       "      <td>21.0</td>\n",
       "    </tr>\n",
       "    <tr>\n",
       "      <th>21-186G-12</th>\n",
       "      <td>0.00</td>\n",
       "      <td>72.79</td>\n",
       "      <td>115.95</td>\n",
       "      <td>96.03</td>\n",
       "      <td>145.87</td>\n",
       "      <td>30.18</td>\n",
       "      <td>48.09</td>\n",
       "      <td>165.69</td>\n",
       "      <td>137.90</td>\n",
       "      <td>100.85</td>\n",
       "      <td>...</td>\n",
       "      <td>0.0</td>\n",
       "      <td>1405.82</td>\n",
       "      <td>0.00</td>\n",
       "      <td>0.00</td>\n",
       "      <td>0.00</td>\n",
       "      <td>50.00</td>\n",
       "      <td>0.00</td>\n",
       "      <td>0.27</td>\n",
       "      <td>0.40</td>\n",
       "      <td>7.0</td>\n",
       "    </tr>\n",
       "  </tbody>\n",
       "</table>\n",
       "<p>5 rows × 85 columns</p>\n",
       "</div>"
      ],
      "text/plain": [
       "              petrol_volume  petrol_volume.1  petrol_volume.2  \\\n",
       "21-186G-1161           0.00             0.00            49.68   \n",
       "21-186G-1172           0.00             0.00             0.00   \n",
       "21-186G-1190          12.42            13.45             0.00   \n",
       "21-186G-1193          43.27            21.51            48.19   \n",
       "21-186G-12             0.00            72.79           115.95   \n",
       "\n",
       "              petrol_volume.3  petrol_volume.4  petrol_volume.5  \\\n",
       "21-186G-1161            74.25             0.00             0.00   \n",
       "21-186G-1172             0.00             0.00             0.00   \n",
       "21-186G-1190             0.00             0.00             7.96   \n",
       "21-186G-1193            19.95            10.86            26.57   \n",
       "21-186G-12              96.03           145.87            30.18   \n",
       "\n",
       "              petrol_volume.6  petrol_volume.7  petrol_volume.8  \\\n",
       "21-186G-1161            50.64             0.00             0.00   \n",
       "21-186G-1172             0.00             0.00             0.00   \n",
       "21-186G-1190             0.00             0.00             0.00   \n",
       "21-186G-1193             0.00             5.21            36.47   \n",
       "21-186G-12              48.09           165.69           137.90   \n",
       "\n",
       "              petrol_volume.9  ...   discount.12  discount.13  discount.14  \\\n",
       "21-186G-1161           157.59  ...           0.0         0.00         0.00   \n",
       "21-186G-1172             0.00  ...           0.2         0.19         0.37   \n",
       "21-186G-1190            10.66  ...           0.0         0.00         0.43   \n",
       "21-186G-1193            52.94  ...           0.0         0.00         0.00   \n",
       "21-186G-12             100.85  ...           0.0      1405.82         0.00   \n",
       "\n",
       "              discount.15  discount.16  discount.17  discount.18  discount.19  \\\n",
       "21-186G-1161         0.00         0.29         0.06         0.00         0.00   \n",
       "21-186G-1172         0.18         0.89         0.32         0.09         0.31   \n",
       "21-186G-1190         0.22         0.29         0.13         0.00        17.72   \n",
       "21-186G-1193         0.00         0.00         0.00         0.00         0.00   \n",
       "21-186G-12           0.00         0.00        50.00         0.00         0.27   \n",
       "\n",
       "              discount.20   age  \n",
       "21-186G-1161         0.00  20.0  \n",
       "21-186G-1172         0.39  23.0  \n",
       "21-186G-1190       454.52  23.0  \n",
       "21-186G-1193         0.00  21.0  \n",
       "21-186G-12           0.40   7.0  \n",
       "\n",
       "[5 rows x 85 columns]"
      ]
     },
     "execution_count": 17,
     "metadata": {},
     "output_type": "execute_result"
    }
   ],
   "source": [
    "X_train_10.head()"
   ]
  },
  {
   "cell_type": "code",
   "execution_count": 18,
   "metadata": {},
   "outputs": [
    {
     "data": {
      "text/plain": [
       "85"
      ]
     },
     "execution_count": 18,
     "metadata": {},
     "output_type": "execute_result"
    }
   ],
   "source": [
    "contin_vars = list(X_test_10.columns)\n",
    "contin_maps = [([o], StandardScaler()) for o in contin_vars]\n",
    "contin_mapper = DataFrameMapper(contin_maps)\n",
    "contin_map_fit = contin_mapper.fit(X_test_10)\n",
    "contin_cols = len(contin_map_fit.features)\n",
    "contin_cols"
   ]
  },
  {
   "cell_type": "code",
   "execution_count": 19,
   "metadata": {},
   "outputs": [
    {
     "data": {
      "text/plain": [
       "array([-0.35149057, -0.44269547, -0.14711137, -0.09790698, -0.63636627])"
      ]
     },
     "execution_count": 19,
     "metadata": {},
     "output_type": "execute_result"
    }
   ],
   "source": [
    "contin_map_fit.transform(X_train_10)[0,:5]"
   ]
  },
  {
   "cell_type": "code",
   "execution_count": 20,
   "metadata": {},
   "outputs": [
    {
     "data": {
      "text/plain": [
       "sklearn_pandas.dataframe_mapper.DataFrameMapper"
      ]
     },
     "execution_count": 20,
     "metadata": {},
     "output_type": "execute_result"
    }
   ],
   "source": [
    "type(contin_map_fit)"
   ]
  },
  {
   "cell_type": "markdown",
   "metadata": {},
   "source": [
    "### Sample data"
   ]
  },
  {
   "cell_type": "code",
   "execution_count": 21,
   "metadata": {},
   "outputs": [],
   "source": [
    "def contin_preproc(dat):\n",
    "    return contin_map_fit.transform(dat).astype(np.float32)"
   ]
  },
  {
   "cell_type": "code",
   "execution_count": 22,
   "metadata": {},
   "outputs": [],
   "source": [
    "contin_map_train = contin_preproc(X_train_10)"
   ]
  },
  {
   "cell_type": "code",
   "execution_count": 23,
   "metadata": {},
   "outputs": [],
   "source": [
    "contin_map_test = contin_preproc(X_test_10)"
   ]
  },
  {
   "cell_type": "code",
   "execution_count": 24,
   "metadata": {},
   "outputs": [
    {
     "data": {
      "text/plain": [
       "((59602, 85), (31118, 85))"
      ]
     },
     "execution_count": 24,
     "metadata": {},
     "output_type": "execute_result"
    }
   ],
   "source": [
    "contin_map_train.shape, contin_map_test.shape"
   ]
  },
  {
   "cell_type": "code",
   "execution_count": 25,
   "metadata": {},
   "outputs": [
    {
     "data": {
      "text/plain": [
       "array([[-0.3514906 , -0.44269547, -0.14711137, -0.09790698, -0.63636625,\n",
       "        -0.6434834 , -0.34982046, -0.67787576, -0.7076579 ,  0.13988394,\n",
       "        -0.1824266 , -0.5743122 , -0.85825217, -0.8296139 , -0.8677756 ,\n",
       "        -0.8801942 , -0.85799414, -0.8168995 , -0.9123414 , -0.88806283,\n",
       "        -0.95195043, -0.19009025, -0.22851735, -0.30022612, -0.33301815,\n",
       "        -0.34798214, -0.3717877 , -0.10097869, -0.4134014 ,  1.7309424 ,\n",
       "        -0.3915366 , -0.13327143, -0.4171494 , -0.38319102, -0.38388178,\n",
       "        -0.2559257 , -0.34027296, -0.31040972, -0.26753786, -0.2502806 ,\n",
       "        -0.18165551, -0.21092394, -0.35167065, -0.44207066, -0.1310752 ,\n",
       "        -0.06870536, -0.6386529 , -0.6460763 , -0.3258194 , -0.6833742 ,\n",
       "        -0.5947391 ,  0.18281814, -0.15193263, -0.56792486, -0.8578155 ,\n",
       "        -0.82987   , -0.869945  , -0.8850595 , -0.8679976 , -0.8277923 ,\n",
       "        -0.9182923 , -0.8960734 , -0.9606684 , -0.316926  , -0.38978067,\n",
       "        -0.30311266, -0.32371813, -0.56359494, -0.57164073, -0.33649904,\n",
       "        -0.41258425, -0.37918553, -0.3936237 , -0.40555578, -0.42238137,\n",
       "        -0.5128969 , -0.44534823, -0.45656472, -0.43575397, -0.4835054 ,\n",
       "        -0.47783455, -0.48945153, -0.5040271 , -0.51769215,  0.5203859 ]],\n",
       "      dtype=float32)"
      ]
     },
     "execution_count": 25,
     "metadata": {},
     "output_type": "execute_result"
    }
   ],
   "source": [
    "contin_map_train[0:1]"
   ]
  },
  {
   "cell_type": "markdown",
   "metadata": {},
   "source": [
    "### creating a sample from training set equals to test set"
   ]
  },
  {
   "cell_type": "code",
   "execution_count": 26,
   "metadata": {},
   "outputs": [],
   "source": [
    "samp_size = contin_map_test.shape[0]\n",
    "contin_map_train_sample_idx = np.random.randint(contin_map_train.shape[0], size=samp_size)\n",
    "contin_map_rest_sample_idx = np.random.randint(contin_map_train.shape[0], size=(contin_map_train.shape[0]-samp_size))\n",
    "contin_map_train_sample, contin_map_rest_sample_idx = contin_map_train[contin_map_train_sample_idx,:], contin_map_train[contin_map_rest_sample_idx,:]"
   ]
  },
  {
   "cell_type": "markdown",
   "metadata": {},
   "source": [
    "### Model definition"
   ]
  },
  {
   "cell_type": "code",
   "execution_count": 27,
   "metadata": {},
   "outputs": [
    {
     "name": "stderr",
     "output_type": "stream",
     "text": [
      "Using TensorFlow backend.\n"
     ]
    }
   ],
   "source": [
    "import keras\n",
    "from keras import backend as K\n",
    "from keras.models import Sequential, Model\n",
    "from keras.layers.core import Dense, Dropout"
   ]
  },
  {
   "cell_type": "code",
   "execution_count": 28,
   "metadata": {},
   "outputs": [],
   "source": [
    "from keras.optimizers import SGD, RMSprop, Adam\n",
    "from keras.metrics import categorical_crossentropy, categorical_accuracy\n",
    "from keras.layers.convolutional import *"
   ]
  },
  {
   "cell_type": "code",
   "execution_count": 29,
   "metadata": {},
   "outputs": [],
   "source": [
    "from keras.layers import Input"
   ]
  },
  {
   "cell_type": "code",
   "execution_count": 30,
   "metadata": {},
   "outputs": [],
   "source": [
    "def get_contin(feat):\n",
    "    name = feat[0][0]\n",
    "    inp = Input((1,), name=name+'_in')\n",
    "    return inp, Dense(1, name=name+'_d', init=\"random_uniform\")(inp) "
   ]
  },
  {
   "cell_type": "code",
   "execution_count": 31,
   "metadata": {},
   "outputs": [
    {
     "name": "stderr",
     "output_type": "stream",
     "text": [
      "/usr/local/lib/python3.5/dist-packages/ipykernel_launcher.py:4: UserWarning: Update your `Dense` call to the Keras 2 API: `Dense(1, kernel_initializer=\"random_uniform\", name=\"petrol_volume_d\")`\n",
      "  after removing the cwd from sys.path.\n",
      "/usr/local/lib/python3.5/dist-packages/ipykernel_launcher.py:4: UserWarning: Update your `Dense` call to the Keras 2 API: `Dense(1, kernel_initializer=\"random_uniform\", name=\"petrol_volume.1_d\")`\n",
      "  after removing the cwd from sys.path.\n",
      "/usr/local/lib/python3.5/dist-packages/ipykernel_launcher.py:4: UserWarning: Update your `Dense` call to the Keras 2 API: `Dense(1, kernel_initializer=\"random_uniform\", name=\"petrol_volume.2_d\")`\n",
      "  after removing the cwd from sys.path.\n",
      "/usr/local/lib/python3.5/dist-packages/ipykernel_launcher.py:4: UserWarning: Update your `Dense` call to the Keras 2 API: `Dense(1, kernel_initializer=\"random_uniform\", name=\"petrol_volume.3_d\")`\n",
      "  after removing the cwd from sys.path.\n",
      "/usr/local/lib/python3.5/dist-packages/ipykernel_launcher.py:4: UserWarning: Update your `Dense` call to the Keras 2 API: `Dense(1, kernel_initializer=\"random_uniform\", name=\"petrol_volume.4_d\")`\n",
      "  after removing the cwd from sys.path.\n",
      "/usr/local/lib/python3.5/dist-packages/ipykernel_launcher.py:4: UserWarning: Update your `Dense` call to the Keras 2 API: `Dense(1, kernel_initializer=\"random_uniform\", name=\"petrol_volume.5_d\")`\n",
      "  after removing the cwd from sys.path.\n",
      "/usr/local/lib/python3.5/dist-packages/ipykernel_launcher.py:4: UserWarning: Update your `Dense` call to the Keras 2 API: `Dense(1, kernel_initializer=\"random_uniform\", name=\"petrol_volume.6_d\")`\n",
      "  after removing the cwd from sys.path.\n",
      "/usr/local/lib/python3.5/dist-packages/ipykernel_launcher.py:4: UserWarning: Update your `Dense` call to the Keras 2 API: `Dense(1, kernel_initializer=\"random_uniform\", name=\"petrol_volume.7_d\")`\n",
      "  after removing the cwd from sys.path.\n",
      "/usr/local/lib/python3.5/dist-packages/ipykernel_launcher.py:4: UserWarning: Update your `Dense` call to the Keras 2 API: `Dense(1, kernel_initializer=\"random_uniform\", name=\"petrol_volume.8_d\")`\n",
      "  after removing the cwd from sys.path.\n",
      "/usr/local/lib/python3.5/dist-packages/ipykernel_launcher.py:4: UserWarning: Update your `Dense` call to the Keras 2 API: `Dense(1, kernel_initializer=\"random_uniform\", name=\"petrol_volume.9_d\")`\n",
      "  after removing the cwd from sys.path.\n",
      "/usr/local/lib/python3.5/dist-packages/ipykernel_launcher.py:4: UserWarning: Update your `Dense` call to the Keras 2 API: `Dense(1, kernel_initializer=\"random_uniform\", name=\"petrol_volume.10_d\")`\n",
      "  after removing the cwd from sys.path.\n",
      "/usr/local/lib/python3.5/dist-packages/ipykernel_launcher.py:4: UserWarning: Update your `Dense` call to the Keras 2 API: `Dense(1, kernel_initializer=\"random_uniform\", name=\"petrol_volume.11_d\")`\n",
      "  after removing the cwd from sys.path.\n",
      "/usr/local/lib/python3.5/dist-packages/ipykernel_launcher.py:4: UserWarning: Update your `Dense` call to the Keras 2 API: `Dense(1, kernel_initializer=\"random_uniform\", name=\"petrol_volume.12_d\")`\n",
      "  after removing the cwd from sys.path.\n",
      "/usr/local/lib/python3.5/dist-packages/ipykernel_launcher.py:4: UserWarning: Update your `Dense` call to the Keras 2 API: `Dense(1, kernel_initializer=\"random_uniform\", name=\"petrol_volume.13_d\")`\n",
      "  after removing the cwd from sys.path.\n",
      "/usr/local/lib/python3.5/dist-packages/ipykernel_launcher.py:4: UserWarning: Update your `Dense` call to the Keras 2 API: `Dense(1, kernel_initializer=\"random_uniform\", name=\"petrol_volume.14_d\")`\n",
      "  after removing the cwd from sys.path.\n",
      "/usr/local/lib/python3.5/dist-packages/ipykernel_launcher.py:4: UserWarning: Update your `Dense` call to the Keras 2 API: `Dense(1, kernel_initializer=\"random_uniform\", name=\"petrol_volume.15_d\")`\n",
      "  after removing the cwd from sys.path.\n",
      "/usr/local/lib/python3.5/dist-packages/ipykernel_launcher.py:4: UserWarning: Update your `Dense` call to the Keras 2 API: `Dense(1, kernel_initializer=\"random_uniform\", name=\"petrol_volume.16_d\")`\n",
      "  after removing the cwd from sys.path.\n",
      "/usr/local/lib/python3.5/dist-packages/ipykernel_launcher.py:4: UserWarning: Update your `Dense` call to the Keras 2 API: `Dense(1, kernel_initializer=\"random_uniform\", name=\"petrol_volume.17_d\")`\n",
      "  after removing the cwd from sys.path.\n",
      "/usr/local/lib/python3.5/dist-packages/ipykernel_launcher.py:4: UserWarning: Update your `Dense` call to the Keras 2 API: `Dense(1, kernel_initializer=\"random_uniform\", name=\"petrol_volume.18_d\")`\n",
      "  after removing the cwd from sys.path.\n",
      "/usr/local/lib/python3.5/dist-packages/ipykernel_launcher.py:4: UserWarning: Update your `Dense` call to the Keras 2 API: `Dense(1, kernel_initializer=\"random_uniform\", name=\"petrol_volume.19_d\")`\n",
      "  after removing the cwd from sys.path.\n",
      "/usr/local/lib/python3.5/dist-packages/ipykernel_launcher.py:4: UserWarning: Update your `Dense` call to the Keras 2 API: `Dense(1, kernel_initializer=\"random_uniform\", name=\"petrol_volume.20_d\")`\n",
      "  after removing the cwd from sys.path.\n",
      "/usr/local/lib/python3.5/dist-packages/ipykernel_launcher.py:4: UserWarning: Update your `Dense` call to the Keras 2 API: `Dense(1, kernel_initializer=\"random_uniform\", name=\"snack_quant_d\")`\n",
      "  after removing the cwd from sys.path.\n",
      "/usr/local/lib/python3.5/dist-packages/ipykernel_launcher.py:4: UserWarning: Update your `Dense` call to the Keras 2 API: `Dense(1, kernel_initializer=\"random_uniform\", name=\"snack_quant.1_d\")`\n",
      "  after removing the cwd from sys.path.\n",
      "/usr/local/lib/python3.5/dist-packages/ipykernel_launcher.py:4: UserWarning: Update your `Dense` call to the Keras 2 API: `Dense(1, kernel_initializer=\"random_uniform\", name=\"snack_quant.2_d\")`\n",
      "  after removing the cwd from sys.path.\n",
      "/usr/local/lib/python3.5/dist-packages/ipykernel_launcher.py:4: UserWarning: Update your `Dense` call to the Keras 2 API: `Dense(1, kernel_initializer=\"random_uniform\", name=\"snack_quant.3_d\")`\n",
      "  after removing the cwd from sys.path.\n",
      "/usr/local/lib/python3.5/dist-packages/ipykernel_launcher.py:4: UserWarning: Update your `Dense` call to the Keras 2 API: `Dense(1, kernel_initializer=\"random_uniform\", name=\"snack_quant.4_d\")`\n",
      "  after removing the cwd from sys.path.\n",
      "/usr/local/lib/python3.5/dist-packages/ipykernel_launcher.py:4: UserWarning: Update your `Dense` call to the Keras 2 API: `Dense(1, kernel_initializer=\"random_uniform\", name=\"snack_quant.5_d\")`\n",
      "  after removing the cwd from sys.path.\n",
      "/usr/local/lib/python3.5/dist-packages/ipykernel_launcher.py:4: UserWarning: Update your `Dense` call to the Keras 2 API: `Dense(1, kernel_initializer=\"random_uniform\", name=\"snack_quant.6_d\")`\n",
      "  after removing the cwd from sys.path.\n",
      "/usr/local/lib/python3.5/dist-packages/ipykernel_launcher.py:4: UserWarning: Update your `Dense` call to the Keras 2 API: `Dense(1, kernel_initializer=\"random_uniform\", name=\"snack_quant.7_d\")`\n",
      "  after removing the cwd from sys.path.\n",
      "/usr/local/lib/python3.5/dist-packages/ipykernel_launcher.py:4: UserWarning: Update your `Dense` call to the Keras 2 API: `Dense(1, kernel_initializer=\"random_uniform\", name=\"snack_quant.8_d\")`\n",
      "  after removing the cwd from sys.path.\n",
      "/usr/local/lib/python3.5/dist-packages/ipykernel_launcher.py:4: UserWarning: Update your `Dense` call to the Keras 2 API: `Dense(1, kernel_initializer=\"random_uniform\", name=\"snack_quant.9_d\")`\n",
      "  after removing the cwd from sys.path.\n",
      "/usr/local/lib/python3.5/dist-packages/ipykernel_launcher.py:4: UserWarning: Update your `Dense` call to the Keras 2 API: `Dense(1, kernel_initializer=\"random_uniform\", name=\"snack_quant.10_d\")`\n",
      "  after removing the cwd from sys.path.\n",
      "/usr/local/lib/python3.5/dist-packages/ipykernel_launcher.py:4: UserWarning: Update your `Dense` call to the Keras 2 API: `Dense(1, kernel_initializer=\"random_uniform\", name=\"snack_quant.11_d\")`\n",
      "  after removing the cwd from sys.path.\n",
      "/usr/local/lib/python3.5/dist-packages/ipykernel_launcher.py:4: UserWarning: Update your `Dense` call to the Keras 2 API: `Dense(1, kernel_initializer=\"random_uniform\", name=\"snack_quant.12_d\")`\n",
      "  after removing the cwd from sys.path.\n",
      "/usr/local/lib/python3.5/dist-packages/ipykernel_launcher.py:4: UserWarning: Update your `Dense` call to the Keras 2 API: `Dense(1, kernel_initializer=\"random_uniform\", name=\"snack_quant.13_d\")`\n",
      "  after removing the cwd from sys.path.\n",
      "/usr/local/lib/python3.5/dist-packages/ipykernel_launcher.py:4: UserWarning: Update your `Dense` call to the Keras 2 API: `Dense(1, kernel_initializer=\"random_uniform\", name=\"snack_quant.14_d\")`\n",
      "  after removing the cwd from sys.path.\n",
      "/usr/local/lib/python3.5/dist-packages/ipykernel_launcher.py:4: UserWarning: Update your `Dense` call to the Keras 2 API: `Dense(1, kernel_initializer=\"random_uniform\", name=\"snack_quant.15_d\")`\n",
      "  after removing the cwd from sys.path.\n",
      "/usr/local/lib/python3.5/dist-packages/ipykernel_launcher.py:4: UserWarning: Update your `Dense` call to the Keras 2 API: `Dense(1, kernel_initializer=\"random_uniform\", name=\"snack_quant.16_d\")`\n",
      "  after removing the cwd from sys.path.\n",
      "/usr/local/lib/python3.5/dist-packages/ipykernel_launcher.py:4: UserWarning: Update your `Dense` call to the Keras 2 API: `Dense(1, kernel_initializer=\"random_uniform\", name=\"snack_quant.17_d\")`\n",
      "  after removing the cwd from sys.path.\n",
      "/usr/local/lib/python3.5/dist-packages/ipykernel_launcher.py:4: UserWarning: Update your `Dense` call to the Keras 2 API: `Dense(1, kernel_initializer=\"random_uniform\", name=\"snack_quant.18_d\")`\n",
      "  after removing the cwd from sys.path.\n",
      "/usr/local/lib/python3.5/dist-packages/ipykernel_launcher.py:4: UserWarning: Update your `Dense` call to the Keras 2 API: `Dense(1, kernel_initializer=\"random_uniform\", name=\"snack_quant.19_d\")`\n",
      "  after removing the cwd from sys.path.\n",
      "/usr/local/lib/python3.5/dist-packages/ipykernel_launcher.py:4: UserWarning: Update your `Dense` call to the Keras 2 API: `Dense(1, kernel_initializer=\"random_uniform\", name=\"snack_quant.20_d\")`\n",
      "  after removing the cwd from sys.path.\n",
      "/usr/local/lib/python3.5/dist-packages/ipykernel_launcher.py:4: UserWarning: Update your `Dense` call to the Keras 2 API: `Dense(1, kernel_initializer=\"random_uniform\", name=\"sum_d\")`\n",
      "  after removing the cwd from sys.path.\n",
      "/usr/local/lib/python3.5/dist-packages/ipykernel_launcher.py:4: UserWarning: Update your `Dense` call to the Keras 2 API: `Dense(1, kernel_initializer=\"random_uniform\", name=\"sum.1_d\")`\n",
      "  after removing the cwd from sys.path.\n",
      "/usr/local/lib/python3.5/dist-packages/ipykernel_launcher.py:4: UserWarning: Update your `Dense` call to the Keras 2 API: `Dense(1, kernel_initializer=\"random_uniform\", name=\"sum.2_d\")`\n",
      "  after removing the cwd from sys.path.\n",
      "/usr/local/lib/python3.5/dist-packages/ipykernel_launcher.py:4: UserWarning: Update your `Dense` call to the Keras 2 API: `Dense(1, kernel_initializer=\"random_uniform\", name=\"sum.3_d\")`\n",
      "  after removing the cwd from sys.path.\n",
      "/usr/local/lib/python3.5/dist-packages/ipykernel_launcher.py:4: UserWarning: Update your `Dense` call to the Keras 2 API: `Dense(1, kernel_initializer=\"random_uniform\", name=\"sum.4_d\")`\n",
      "  after removing the cwd from sys.path.\n",
      "/usr/local/lib/python3.5/dist-packages/ipykernel_launcher.py:4: UserWarning: Update your `Dense` call to the Keras 2 API: `Dense(1, kernel_initializer=\"random_uniform\", name=\"sum.5_d\")`\n",
      "  after removing the cwd from sys.path.\n",
      "/usr/local/lib/python3.5/dist-packages/ipykernel_launcher.py:4: UserWarning: Update your `Dense` call to the Keras 2 API: `Dense(1, kernel_initializer=\"random_uniform\", name=\"sum.6_d\")`\n",
      "  after removing the cwd from sys.path.\n"
     ]
    },
    {
     "name": "stderr",
     "output_type": "stream",
     "text": [
      "/usr/local/lib/python3.5/dist-packages/ipykernel_launcher.py:4: UserWarning: Update your `Dense` call to the Keras 2 API: `Dense(1, kernel_initializer=\"random_uniform\", name=\"sum.7_d\")`\n",
      "  after removing the cwd from sys.path.\n",
      "/usr/local/lib/python3.5/dist-packages/ipykernel_launcher.py:4: UserWarning: Update your `Dense` call to the Keras 2 API: `Dense(1, kernel_initializer=\"random_uniform\", name=\"sum.8_d\")`\n",
      "  after removing the cwd from sys.path.\n",
      "/usr/local/lib/python3.5/dist-packages/ipykernel_launcher.py:4: UserWarning: Update your `Dense` call to the Keras 2 API: `Dense(1, kernel_initializer=\"random_uniform\", name=\"sum.9_d\")`\n",
      "  after removing the cwd from sys.path.\n",
      "/usr/local/lib/python3.5/dist-packages/ipykernel_launcher.py:4: UserWarning: Update your `Dense` call to the Keras 2 API: `Dense(1, kernel_initializer=\"random_uniform\", name=\"sum.10_d\")`\n",
      "  after removing the cwd from sys.path.\n",
      "/usr/local/lib/python3.5/dist-packages/ipykernel_launcher.py:4: UserWarning: Update your `Dense` call to the Keras 2 API: `Dense(1, kernel_initializer=\"random_uniform\", name=\"sum.11_d\")`\n",
      "  after removing the cwd from sys.path.\n",
      "/usr/local/lib/python3.5/dist-packages/ipykernel_launcher.py:4: UserWarning: Update your `Dense` call to the Keras 2 API: `Dense(1, kernel_initializer=\"random_uniform\", name=\"sum.12_d\")`\n",
      "  after removing the cwd from sys.path.\n",
      "/usr/local/lib/python3.5/dist-packages/ipykernel_launcher.py:4: UserWarning: Update your `Dense` call to the Keras 2 API: `Dense(1, kernel_initializer=\"random_uniform\", name=\"sum.13_d\")`\n",
      "  after removing the cwd from sys.path.\n",
      "/usr/local/lib/python3.5/dist-packages/ipykernel_launcher.py:4: UserWarning: Update your `Dense` call to the Keras 2 API: `Dense(1, kernel_initializer=\"random_uniform\", name=\"sum.14_d\")`\n",
      "  after removing the cwd from sys.path.\n",
      "/usr/local/lib/python3.5/dist-packages/ipykernel_launcher.py:4: UserWarning: Update your `Dense` call to the Keras 2 API: `Dense(1, kernel_initializer=\"random_uniform\", name=\"sum.15_d\")`\n",
      "  after removing the cwd from sys.path.\n",
      "/usr/local/lib/python3.5/dist-packages/ipykernel_launcher.py:4: UserWarning: Update your `Dense` call to the Keras 2 API: `Dense(1, kernel_initializer=\"random_uniform\", name=\"sum.16_d\")`\n",
      "  after removing the cwd from sys.path.\n",
      "/usr/local/lib/python3.5/dist-packages/ipykernel_launcher.py:4: UserWarning: Update your `Dense` call to the Keras 2 API: `Dense(1, kernel_initializer=\"random_uniform\", name=\"sum.17_d\")`\n",
      "  after removing the cwd from sys.path.\n",
      "/usr/local/lib/python3.5/dist-packages/ipykernel_launcher.py:4: UserWarning: Update your `Dense` call to the Keras 2 API: `Dense(1, kernel_initializer=\"random_uniform\", name=\"sum.18_d\")`\n",
      "  after removing the cwd from sys.path.\n",
      "/usr/local/lib/python3.5/dist-packages/ipykernel_launcher.py:4: UserWarning: Update your `Dense` call to the Keras 2 API: `Dense(1, kernel_initializer=\"random_uniform\", name=\"sum.19_d\")`\n",
      "  after removing the cwd from sys.path.\n",
      "/usr/local/lib/python3.5/dist-packages/ipykernel_launcher.py:4: UserWarning: Update your `Dense` call to the Keras 2 API: `Dense(1, kernel_initializer=\"random_uniform\", name=\"sum.20_d\")`\n",
      "  after removing the cwd from sys.path.\n",
      "/usr/local/lib/python3.5/dist-packages/ipykernel_launcher.py:4: UserWarning: Update your `Dense` call to the Keras 2 API: `Dense(1, kernel_initializer=\"random_uniform\", name=\"discount_d\")`\n",
      "  after removing the cwd from sys.path.\n",
      "/usr/local/lib/python3.5/dist-packages/ipykernel_launcher.py:4: UserWarning: Update your `Dense` call to the Keras 2 API: `Dense(1, kernel_initializer=\"random_uniform\", name=\"discount.1_d\")`\n",
      "  after removing the cwd from sys.path.\n",
      "/usr/local/lib/python3.5/dist-packages/ipykernel_launcher.py:4: UserWarning: Update your `Dense` call to the Keras 2 API: `Dense(1, kernel_initializer=\"random_uniform\", name=\"discount.2_d\")`\n",
      "  after removing the cwd from sys.path.\n",
      "/usr/local/lib/python3.5/dist-packages/ipykernel_launcher.py:4: UserWarning: Update your `Dense` call to the Keras 2 API: `Dense(1, kernel_initializer=\"random_uniform\", name=\"discount.3_d\")`\n",
      "  after removing the cwd from sys.path.\n",
      "/usr/local/lib/python3.5/dist-packages/ipykernel_launcher.py:4: UserWarning: Update your `Dense` call to the Keras 2 API: `Dense(1, kernel_initializer=\"random_uniform\", name=\"discount.4_d\")`\n",
      "  after removing the cwd from sys.path.\n",
      "/usr/local/lib/python3.5/dist-packages/ipykernel_launcher.py:4: UserWarning: Update your `Dense` call to the Keras 2 API: `Dense(1, kernel_initializer=\"random_uniform\", name=\"discount.5_d\")`\n",
      "  after removing the cwd from sys.path.\n",
      "/usr/local/lib/python3.5/dist-packages/ipykernel_launcher.py:4: UserWarning: Update your `Dense` call to the Keras 2 API: `Dense(1, kernel_initializer=\"random_uniform\", name=\"discount.6_d\")`\n",
      "  after removing the cwd from sys.path.\n",
      "/usr/local/lib/python3.5/dist-packages/ipykernel_launcher.py:4: UserWarning: Update your `Dense` call to the Keras 2 API: `Dense(1, kernel_initializer=\"random_uniform\", name=\"discount.7_d\")`\n",
      "  after removing the cwd from sys.path.\n",
      "/usr/local/lib/python3.5/dist-packages/ipykernel_launcher.py:4: UserWarning: Update your `Dense` call to the Keras 2 API: `Dense(1, kernel_initializer=\"random_uniform\", name=\"discount.8_d\")`\n",
      "  after removing the cwd from sys.path.\n",
      "/usr/local/lib/python3.5/dist-packages/ipykernel_launcher.py:4: UserWarning: Update your `Dense` call to the Keras 2 API: `Dense(1, kernel_initializer=\"random_uniform\", name=\"discount.9_d\")`\n",
      "  after removing the cwd from sys.path.\n",
      "/usr/local/lib/python3.5/dist-packages/ipykernel_launcher.py:4: UserWarning: Update your `Dense` call to the Keras 2 API: `Dense(1, kernel_initializer=\"random_uniform\", name=\"discount.10_d\")`\n",
      "  after removing the cwd from sys.path.\n",
      "/usr/local/lib/python3.5/dist-packages/ipykernel_launcher.py:4: UserWarning: Update your `Dense` call to the Keras 2 API: `Dense(1, kernel_initializer=\"random_uniform\", name=\"discount.11_d\")`\n",
      "  after removing the cwd from sys.path.\n",
      "/usr/local/lib/python3.5/dist-packages/ipykernel_launcher.py:4: UserWarning: Update your `Dense` call to the Keras 2 API: `Dense(1, kernel_initializer=\"random_uniform\", name=\"discount.12_d\")`\n",
      "  after removing the cwd from sys.path.\n",
      "/usr/local/lib/python3.5/dist-packages/ipykernel_launcher.py:4: UserWarning: Update your `Dense` call to the Keras 2 API: `Dense(1, kernel_initializer=\"random_uniform\", name=\"discount.13_d\")`\n",
      "  after removing the cwd from sys.path.\n",
      "/usr/local/lib/python3.5/dist-packages/ipykernel_launcher.py:4: UserWarning: Update your `Dense` call to the Keras 2 API: `Dense(1, kernel_initializer=\"random_uniform\", name=\"discount.14_d\")`\n",
      "  after removing the cwd from sys.path.\n",
      "/usr/local/lib/python3.5/dist-packages/ipykernel_launcher.py:4: UserWarning: Update your `Dense` call to the Keras 2 API: `Dense(1, kernel_initializer=\"random_uniform\", name=\"discount.15_d\")`\n",
      "  after removing the cwd from sys.path.\n",
      "/usr/local/lib/python3.5/dist-packages/ipykernel_launcher.py:4: UserWarning: Update your `Dense` call to the Keras 2 API: `Dense(1, kernel_initializer=\"random_uniform\", name=\"discount.16_d\")`\n",
      "  after removing the cwd from sys.path.\n",
      "/usr/local/lib/python3.5/dist-packages/ipykernel_launcher.py:4: UserWarning: Update your `Dense` call to the Keras 2 API: `Dense(1, kernel_initializer=\"random_uniform\", name=\"discount.17_d\")`\n",
      "  after removing the cwd from sys.path.\n",
      "/usr/local/lib/python3.5/dist-packages/ipykernel_launcher.py:4: UserWarning: Update your `Dense` call to the Keras 2 API: `Dense(1, kernel_initializer=\"random_uniform\", name=\"discount.18_d\")`\n",
      "  after removing the cwd from sys.path.\n",
      "/usr/local/lib/python3.5/dist-packages/ipykernel_launcher.py:4: UserWarning: Update your `Dense` call to the Keras 2 API: `Dense(1, kernel_initializer=\"random_uniform\", name=\"discount.19_d\")`\n",
      "  after removing the cwd from sys.path.\n",
      "/usr/local/lib/python3.5/dist-packages/ipykernel_launcher.py:4: UserWarning: Update your `Dense` call to the Keras 2 API: `Dense(1, kernel_initializer=\"random_uniform\", name=\"discount.20_d\")`\n",
      "  after removing the cwd from sys.path.\n",
      "/usr/local/lib/python3.5/dist-packages/ipykernel_launcher.py:4: UserWarning: Update your `Dense` call to the Keras 2 API: `Dense(1, kernel_initializer=\"random_uniform\", name=\"age_d\")`\n",
      "  after removing the cwd from sys.path.\n"
     ]
    }
   ],
   "source": [
    "conts = [get_contin(feat) for feat in contin_map_fit.features]"
   ]
  },
  {
   "cell_type": "code",
   "execution_count": 32,
   "metadata": {},
   "outputs": [],
   "source": [
    "contin_d = [d for inp,d in conts]\n",
    "contin_inp = Input((contin_cols,), name='contin')\n",
    "contin_out = Dense(contin_cols*10, activation='relu', name='contin_d')(contin_inp)"
   ]
  },
  {
   "cell_type": "code",
   "execution_count": 33,
   "metadata": {},
   "outputs": [
    {
     "name": "stderr",
     "output_type": "stream",
     "text": [
      "/usr/local/lib/python3.5/dist-packages/ipykernel_launcher.py:3: UserWarning: Update your `Dense` call to the Keras 2 API: `Dense(1000, kernel_initializer=\"uniform\", activation=\"relu\")`\n",
      "  This is separate from the ipykernel package so we can avoid doing imports until\n",
      "/usr/local/lib/python3.5/dist-packages/ipykernel_launcher.py:4: UserWarning: Update your `Dense` call to the Keras 2 API: `Dense(500, kernel_initializer=\"uniform\", activation=\"relu\")`\n",
      "  after removing the cwd from sys.path.\n"
     ]
    }
   ],
   "source": [
    "x = contin_out\n",
    "x = Dropout(0.02)(x)\n",
    "x = Dense(1000, activation='relu', init='uniform')(x)\n",
    "x = Dense(500, activation='relu', init='uniform')(x)\n",
    "x = Dropout(0.2)(x)\n",
    "x = Dense(1, activation='sigmoid')(x)"
   ]
  },
  {
   "cell_type": "code",
   "execution_count": 34,
   "metadata": {},
   "outputs": [],
   "source": [
    "model = Model(contin_inp, x)"
   ]
  },
  {
   "cell_type": "code",
   "execution_count": 35,
   "metadata": {},
   "outputs": [
    {
     "name": "stdout",
     "output_type": "stream",
     "text": [
      "_________________________________________________________________\n",
      "Layer (type)                 Output Shape              Param #   \n",
      "=================================================================\n",
      "contin (InputLayer)          (None, 85)                0         \n",
      "_________________________________________________________________\n",
      "contin_d (Dense)             (None, 850)               73100     \n",
      "_________________________________________________________________\n",
      "dropout_1 (Dropout)          (None, 850)               0         \n",
      "_________________________________________________________________\n",
      "dense_1 (Dense)              (None, 1000)              851000    \n",
      "_________________________________________________________________\n",
      "dense_2 (Dense)              (None, 500)               500500    \n",
      "_________________________________________________________________\n",
      "dropout_2 (Dropout)          (None, 500)               0         \n",
      "_________________________________________________________________\n",
      "dense_3 (Dense)              (None, 1)                 501       \n",
      "=================================================================\n",
      "Total params: 1,425,101\n",
      "Trainable params: 1,425,101\n",
      "Non-trainable params: 0\n",
      "_________________________________________________________________\n"
     ]
    }
   ],
   "source": [
    "model.summary()"
   ]
  },
  {
   "cell_type": "code",
   "execution_count": 42,
   "metadata": {},
   "outputs": [],
   "source": [
    "model.compile('adam', 'mean_absolute_error')"
   ]
  },
  {
   "cell_type": "code",
   "execution_count": null,
   "metadata": {},
   "outputs": [],
   "source": [
    "model.compile('adam', 'mean_absolute_error', )"
   ]
  },
  {
   "cell_type": "markdown",
   "metadata": {},
   "source": [
    "### Start training"
   ]
  },
  {
   "cell_type": "code",
   "execution_count": 36,
   "metadata": {},
   "outputs": [],
   "source": [
    "from sklearn.metrics import roc_auc_score"
   ]
  },
  {
   "cell_type": "code",
   "execution_count": 38,
   "metadata": {},
   "outputs": [],
   "source": [
    "from keras.callbacks import Callback"
   ]
  },
  {
   "cell_type": "code",
   "execution_count": null,
   "metadata": {},
   "outputs": [],
   "source": [
    "# %%time \n",
    "# hist = model.fit(contin_map_train_sample, y_test_10, batch_size=128, epochs=1,\n",
    "#                  verbose=0, validation_data=(contin_map_test, y_test_10)"
   ]
  },
  {
   "cell_type": "code",
   "execution_count": 43,
   "metadata": {
    "scrolled": true
   },
   "outputs": [
    {
     "name": "stdout",
     "output_type": "stream",
     "text": [
      "\r",
      "roc-auc: 0.5096 - roc-auc_val: 0.527                                                                                                    \n",
      "CPU times: user 1min 32s, sys: 33.1 s, total: 2min 5s\n",
      "Wall time: 12.1 s\n"
     ]
    }
   ],
   "source": [
    "%%time \n",
    "hist = model.fit(contin_map_train_sample, y_test_10, batch_size=128, epochs=1,\n",
    "                  verbose=0, validation_data=(contin_map_test, y_test_10), \n",
    "                  callbacks=[roc_callback(training_data=(contin_map_train_sample, y_test_10),\n",
    "                                          validation_data=(contin_map_test, y_test_10))])"
   ]
  },
  {
   "cell_type": "code",
   "execution_count": 40,
   "metadata": {},
   "outputs": [],
   "source": [
    "class roc_callback(Callback):\n",
    "    def __init__(self,training_data,validation_data):\n",
    "        self.x = training_data[0]\n",
    "        self.y = training_data[1]\n",
    "        self.x_val = validation_data[0]\n",
    "        self.y_val = validation_data[1]\n",
    "\n",
    "\n",
    "    def on_train_begin(self, logs={}):\n",
    "        return\n",
    "\n",
    "    def on_train_end(self, logs={}):\n",
    "        return\n",
    "\n",
    "    def on_epoch_begin(self, epoch, logs={}):\n",
    "        return\n",
    "\n",
    "    def on_epoch_end(self, epoch, logs={}):\n",
    "        y_pred = self.model.predict(self.x)\n",
    "        roc = roc_auc_score(self.y, y_pred)\n",
    "        y_pred_val = self.model.predict(self.x_val)\n",
    "        roc_val = roc_auc_score(self.y_val, y_pred_val)\n",
    "        print('\\rroc-auc: %s - roc-auc_val: %s' % (str(round(roc,4)),str(round(roc_val,4))),end=100*' '+'\\n')\n",
    "        return\n",
    "\n",
    "    def on_batch_begin(self, batch, logs={}):\n",
    "        return\n",
    "\n",
    "    def on_batch_end(self, batch, logs={}):\n",
    "        return"
   ]
  },
  {
   "cell_type": "code",
   "execution_count": 44,
   "metadata": {},
   "outputs": [
    {
     "name": "stdout",
     "output_type": "stream",
     "text": [
      "roc-auc: 0.5097 - roc-auc_val: 0.5279                                                                                                    \n",
      "roc-auc: 0.5099 - roc-auc_val: 0.5287                                                                                                    \n",
      "roc-auc: 0.4999 - roc-auc_val: 0.4999                                                                                                    \n",
      "roc-auc: 0.4999 - roc-auc_val: 0.4999                                                                                                    \n",
      "roc-auc: 0.4999 - roc-auc_val: 0.4999                                                                                                    \n",
      "roc-auc: 0.4999 - roc-auc_val: 0.4999                                                                                                    \n",
      "roc-auc: 0.4999 - roc-auc_val: 0.4999                                                                                                    \n",
      "roc-auc: 0.4999 - roc-auc_val: 0.4999                                                                                                    \n",
      "roc-auc: 0.4999 - roc-auc_val: 0.4999                                                                                                    \n",
      "roc-auc: 0.4999 - roc-auc_val: 0.4999                                                                                                    \n",
      "roc-auc: 0.4999 - roc-auc_val: 0.4999                                                                                                    \n",
      "roc-auc: 0.4999 - roc-auc_val: 0.4999                                                                                                    \n",
      "roc-auc: 0.4999 - roc-auc_val: 0.4999                                                                                                    \n",
      "roc-auc: 0.4999 - roc-auc_val: 0.4999                                                                                                    \n",
      "roc-auc: 0.4999 - roc-auc_val: 0.4999                                                                                                    \n",
      "roc-auc: 0.4999 - roc-auc_val: 0.4999                                                                                                    \n",
      "roc-auc: 0.4999 - roc-auc_val: 0.4999                                                                                                    \n",
      "roc-auc: 0.4999 - roc-auc_val: 0.4999                                                                                                    \n",
      "roc-auc: 0.4999 - roc-auc_val: 0.4999                                                                                                    \n",
      "roc-auc: 0.4999 - roc-auc_val: 0.4999                                                                                                    \n",
      "roc-auc: 0.4999 - roc-auc_val: 0.4999                                                                                                    \n",
      "roc-auc: 0.4999 - roc-auc_val: 0.4999                                                                                                    \n",
      "roc-auc: 0.4999 - roc-auc_val: 0.4999                                                                                                    \n",
      "roc-auc: 0.4999 - roc-auc_val: 0.4999                                                                                                    \n",
      "roc-auc: 0.4999 - roc-auc_val: 0.4999                                                                                                    \n",
      "CPU times: user 35min 18s, sys: 12min 35s, total: 47min 53s\n",
      "Wall time: 3min 50s\n"
     ]
    }
   ],
   "source": [
    "%%time \n",
    "hist = model.fit(contin_map_train_sample, y_test_10, batch_size=128, epochs=25,\n",
    "                  verbose=0, validation_data=(contin_map_test, y_test_10), \n",
    "                  callbacks=[roc_callback(training_data=(contin_map_train_sample, y_test_10),\n",
    "                                          validation_data=(contin_map_test, y_test_10))])"
   ]
  },
  {
   "cell_type": "code",
   "execution_count": 45,
   "metadata": {},
   "outputs": [
    {
     "data": {
      "text/plain": [
       "{'loss': [0.5082263880967711,\n",
       "  0.5082256524281956,\n",
       "  0.5054245516116718,\n",
       "  0.49177325021079776,\n",
       "  0.49177325021654406,\n",
       "  0.4917732502050514,\n",
       "  0.4917732502088823,\n",
       "  0.4917732502088823,\n",
       "  0.4917732502088823,\n",
       "  0.49177325022037494,\n",
       "  0.4917732504502277,\n",
       "  0.49177325021079776,\n",
       "  0.4917732502127132,\n",
       "  0.49177325021462864,\n",
       "  0.4917732502088823,\n",
       "  0.4917732502088823,\n",
       "  0.49177325021079776,\n",
       "  0.49177325021462864,\n",
       "  0.49177325022037494,\n",
       "  0.4917732502088823,\n",
       "  0.4917732502050514,\n",
       "  0.49177325020122054,\n",
       "  0.49177325021079776,\n",
       "  0.4917732502127132,\n",
       "  0.4917732502050514],\n",
       " 'val_loss': [0.5082261871652575,\n",
       "  0.5082255718839668,\n",
       "  0.49177325021462864,\n",
       "  0.49177325021462864,\n",
       "  0.49177325021462864,\n",
       "  0.49177325021462864,\n",
       "  0.49177325021462864,\n",
       "  0.49177325021462864,\n",
       "  0.49177325021462864,\n",
       "  0.49177325021462864,\n",
       "  0.49177325021462864,\n",
       "  0.49177325021462864,\n",
       "  0.49177325021462864,\n",
       "  0.49177325021462864,\n",
       "  0.49177325021462864,\n",
       "  0.49177325021462864,\n",
       "  0.49177325021462864,\n",
       "  0.49177325021462864,\n",
       "  0.49177325021462864,\n",
       "  0.49177325021462864,\n",
       "  0.49177325021462864,\n",
       "  0.49177325021462864,\n",
       "  0.49177325021462864,\n",
       "  0.49177325021462864,\n",
       "  0.49177325021462864]}"
      ]
     },
     "execution_count": 45,
     "metadata": {},
     "output_type": "execute_result"
    }
   ],
   "source": [
    "hist.history"
   ]
  },
  {
   "cell_type": "code",
   "execution_count": 46,
   "metadata": {},
   "outputs": [],
   "source": [
    "preds = model.predict(contin_map_test, 1024)"
   ]
  },
  {
   "cell_type": "code",
   "execution_count": 47,
   "metadata": {},
   "outputs": [
    {
     "data": {
      "text/plain": [
       "array([[1.],\n",
       "       [1.],\n",
       "       [1.],\n",
       "       ...,\n",
       "       [1.],\n",
       "       [1.],\n",
       "       [1.]], dtype=float32)"
      ]
     },
     "execution_count": 47,
     "metadata": {},
     "output_type": "execute_result"
    }
   ],
   "source": [
    "preds"
   ]
  },
  {
   "cell_type": "code",
   "execution_count": 48,
   "metadata": {},
   "outputs": [],
   "source": [
    "model.optimizer.lr=1e-4"
   ]
  },
  {
   "cell_type": "code",
   "execution_count": 49,
   "metadata": {},
   "outputs": [
    {
     "name": "stdout",
     "output_type": "stream",
     "text": [
      "roc-auc: 0.4999 - roc-auc_val: 0.4999                                                                                                    \n",
      "roc-auc: 0.4999 - roc-auc_val: 0.4999                                                                                                    \n",
      "roc-auc: 0.4999 - roc-auc_val: 0.4999                                                                                                    \n",
      "roc-auc: 0.4999 - roc-auc_val: 0.4999                                                                                                    \n",
      "roc-auc: 0.4999 - roc-auc_val: 0.4999                                                                                                    \n",
      "roc-auc: 0.4999 - roc-auc_val: 0.4999                                                                                                    \n",
      "roc-auc: 0.4999 - roc-auc_val: 0.4999                                                                                                    \n",
      "roc-auc: 0.4999 - roc-auc_val: 0.4999                                                                                                    \n"
     ]
    },
    {
     "ename": "KeyboardInterrupt",
     "evalue": "",
     "output_type": "error",
     "traceback": [
      "\u001b[0;31m---------------------------------------------------------------------------\u001b[0m",
      "\u001b[0;31mKeyboardInterrupt\u001b[0m                         Traceback (most recent call last)",
      "\u001b[0;32m<timed exec>\u001b[0m in \u001b[0;36m<module>\u001b[0;34m()\u001b[0m\n",
      "\u001b[0;32m/usr/local/lib/python3.5/dist-packages/keras/engine/training.py\u001b[0m in \u001b[0;36mfit\u001b[0;34m(self, x, y, batch_size, epochs, verbose, callbacks, validation_split, validation_data, shuffle, class_weight, sample_weight, initial_epoch, steps_per_epoch, validation_steps, **kwargs)\u001b[0m\n\u001b[1;32m   1703\u001b[0m                               \u001b[0minitial_epoch\u001b[0m\u001b[0;34m=\u001b[0m\u001b[0minitial_epoch\u001b[0m\u001b[0;34m,\u001b[0m\u001b[0;34m\u001b[0m\u001b[0m\n\u001b[1;32m   1704\u001b[0m                               \u001b[0msteps_per_epoch\u001b[0m\u001b[0;34m=\u001b[0m\u001b[0msteps_per_epoch\u001b[0m\u001b[0;34m,\u001b[0m\u001b[0;34m\u001b[0m\u001b[0m\n\u001b[0;32m-> 1705\u001b[0;31m                               validation_steps=validation_steps)\n\u001b[0m\u001b[1;32m   1706\u001b[0m \u001b[0;34m\u001b[0m\u001b[0m\n\u001b[1;32m   1707\u001b[0m     def evaluate(self, x=None, y=None,\n",
      "\u001b[0;32m/usr/local/lib/python3.5/dist-packages/keras/engine/training.py\u001b[0m in \u001b[0;36m_fit_loop\u001b[0;34m(self, f, ins, out_labels, batch_size, epochs, verbose, callbacks, val_f, val_ins, shuffle, callback_metrics, initial_epoch, steps_per_epoch, validation_steps)\u001b[0m\n\u001b[1;32m   1253\u001b[0m                             \u001b[0;32mfor\u001b[0m \u001b[0ml\u001b[0m\u001b[0;34m,\u001b[0m \u001b[0mo\u001b[0m \u001b[0;32min\u001b[0m \u001b[0mzip\u001b[0m\u001b[0;34m(\u001b[0m\u001b[0mout_labels\u001b[0m\u001b[0;34m,\u001b[0m \u001b[0mval_outs\u001b[0m\u001b[0;34m)\u001b[0m\u001b[0;34m:\u001b[0m\u001b[0;34m\u001b[0m\u001b[0m\n\u001b[1;32m   1254\u001b[0m                                 \u001b[0mepoch_logs\u001b[0m\u001b[0;34m[\u001b[0m\u001b[0;34m'val_'\u001b[0m \u001b[0;34m+\u001b[0m \u001b[0ml\u001b[0m\u001b[0;34m]\u001b[0m \u001b[0;34m=\u001b[0m \u001b[0mo\u001b[0m\u001b[0;34m\u001b[0m\u001b[0m\n\u001b[0;32m-> 1255\u001b[0;31m             \u001b[0mcallbacks\u001b[0m\u001b[0;34m.\u001b[0m\u001b[0mon_epoch_end\u001b[0m\u001b[0;34m(\u001b[0m\u001b[0mepoch\u001b[0m\u001b[0;34m,\u001b[0m \u001b[0mepoch_logs\u001b[0m\u001b[0;34m)\u001b[0m\u001b[0;34m\u001b[0m\u001b[0m\n\u001b[0m\u001b[1;32m   1256\u001b[0m             \u001b[0;32mif\u001b[0m \u001b[0mcallback_model\u001b[0m\u001b[0;34m.\u001b[0m\u001b[0mstop_training\u001b[0m\u001b[0;34m:\u001b[0m\u001b[0;34m\u001b[0m\u001b[0m\n\u001b[1;32m   1257\u001b[0m                 \u001b[0;32mbreak\u001b[0m\u001b[0;34m\u001b[0m\u001b[0m\n",
      "\u001b[0;32m/usr/local/lib/python3.5/dist-packages/keras/callbacks.py\u001b[0m in \u001b[0;36mon_epoch_end\u001b[0;34m(self, epoch, logs)\u001b[0m\n\u001b[1;32m     75\u001b[0m         \u001b[0mlogs\u001b[0m \u001b[0;34m=\u001b[0m \u001b[0mlogs\u001b[0m \u001b[0;32mor\u001b[0m \u001b[0;34m{\u001b[0m\u001b[0;34m}\u001b[0m\u001b[0;34m\u001b[0m\u001b[0m\n\u001b[1;32m     76\u001b[0m         \u001b[0;32mfor\u001b[0m \u001b[0mcallback\u001b[0m \u001b[0;32min\u001b[0m \u001b[0mself\u001b[0m\u001b[0;34m.\u001b[0m\u001b[0mcallbacks\u001b[0m\u001b[0;34m:\u001b[0m\u001b[0;34m\u001b[0m\u001b[0m\n\u001b[0;32m---> 77\u001b[0;31m             \u001b[0mcallback\u001b[0m\u001b[0;34m.\u001b[0m\u001b[0mon_epoch_end\u001b[0m\u001b[0;34m(\u001b[0m\u001b[0mepoch\u001b[0m\u001b[0;34m,\u001b[0m \u001b[0mlogs\u001b[0m\u001b[0;34m)\u001b[0m\u001b[0;34m\u001b[0m\u001b[0m\n\u001b[0m\u001b[1;32m     78\u001b[0m \u001b[0;34m\u001b[0m\u001b[0m\n\u001b[1;32m     79\u001b[0m     \u001b[0;32mdef\u001b[0m \u001b[0mon_batch_begin\u001b[0m\u001b[0;34m(\u001b[0m\u001b[0mself\u001b[0m\u001b[0;34m,\u001b[0m \u001b[0mbatch\u001b[0m\u001b[0;34m,\u001b[0m \u001b[0mlogs\u001b[0m\u001b[0;34m=\u001b[0m\u001b[0;32mNone\u001b[0m\u001b[0;34m)\u001b[0m\u001b[0;34m:\u001b[0m\u001b[0;34m\u001b[0m\u001b[0m\n",
      "\u001b[0;32m<ipython-input-40-e6ed786eedd6>\u001b[0m in \u001b[0;36mon_epoch_end\u001b[0;34m(self, epoch, logs)\u001b[0m\n\u001b[1;32m     19\u001b[0m         \u001b[0my_pred\u001b[0m \u001b[0;34m=\u001b[0m \u001b[0mself\u001b[0m\u001b[0;34m.\u001b[0m\u001b[0mmodel\u001b[0m\u001b[0;34m.\u001b[0m\u001b[0mpredict\u001b[0m\u001b[0;34m(\u001b[0m\u001b[0mself\u001b[0m\u001b[0;34m.\u001b[0m\u001b[0mx\u001b[0m\u001b[0;34m)\u001b[0m\u001b[0;34m\u001b[0m\u001b[0m\n\u001b[1;32m     20\u001b[0m         \u001b[0mroc\u001b[0m \u001b[0;34m=\u001b[0m \u001b[0mroc_auc_score\u001b[0m\u001b[0;34m(\u001b[0m\u001b[0mself\u001b[0m\u001b[0;34m.\u001b[0m\u001b[0my\u001b[0m\u001b[0;34m,\u001b[0m \u001b[0my_pred\u001b[0m\u001b[0;34m)\u001b[0m\u001b[0;34m\u001b[0m\u001b[0m\n\u001b[0;32m---> 21\u001b[0;31m         \u001b[0my_pred_val\u001b[0m \u001b[0;34m=\u001b[0m \u001b[0mself\u001b[0m\u001b[0;34m.\u001b[0m\u001b[0mmodel\u001b[0m\u001b[0;34m.\u001b[0m\u001b[0mpredict\u001b[0m\u001b[0;34m(\u001b[0m\u001b[0mself\u001b[0m\u001b[0;34m.\u001b[0m\u001b[0mx_val\u001b[0m\u001b[0;34m)\u001b[0m\u001b[0;34m\u001b[0m\u001b[0m\n\u001b[0m\u001b[1;32m     22\u001b[0m         \u001b[0mroc_val\u001b[0m \u001b[0;34m=\u001b[0m \u001b[0mroc_auc_score\u001b[0m\u001b[0;34m(\u001b[0m\u001b[0mself\u001b[0m\u001b[0;34m.\u001b[0m\u001b[0my_val\u001b[0m\u001b[0;34m,\u001b[0m \u001b[0my_pred_val\u001b[0m\u001b[0;34m)\u001b[0m\u001b[0;34m\u001b[0m\u001b[0m\n\u001b[1;32m     23\u001b[0m         \u001b[0mprint\u001b[0m\u001b[0;34m(\u001b[0m\u001b[0;34m'\\rroc-auc: %s - roc-auc_val: %s'\u001b[0m \u001b[0;34m%\u001b[0m \u001b[0;34m(\u001b[0m\u001b[0mstr\u001b[0m\u001b[0;34m(\u001b[0m\u001b[0mround\u001b[0m\u001b[0;34m(\u001b[0m\u001b[0mroc\u001b[0m\u001b[0;34m,\u001b[0m\u001b[0;36m4\u001b[0m\u001b[0;34m)\u001b[0m\u001b[0;34m)\u001b[0m\u001b[0;34m,\u001b[0m\u001b[0mstr\u001b[0m\u001b[0;34m(\u001b[0m\u001b[0mround\u001b[0m\u001b[0;34m(\u001b[0m\u001b[0mroc_val\u001b[0m\u001b[0;34m,\u001b[0m\u001b[0;36m4\u001b[0m\u001b[0;34m)\u001b[0m\u001b[0;34m)\u001b[0m\u001b[0;34m)\u001b[0m\u001b[0;34m,\u001b[0m\u001b[0mend\u001b[0m\u001b[0;34m=\u001b[0m\u001b[0;36m100\u001b[0m\u001b[0;34m*\u001b[0m\u001b[0;34m' '\u001b[0m\u001b[0;34m+\u001b[0m\u001b[0;34m'\\n'\u001b[0m\u001b[0;34m)\u001b[0m\u001b[0;34m\u001b[0m\u001b[0m\n",
      "\u001b[0;32m/usr/local/lib/python3.5/dist-packages/keras/engine/training.py\u001b[0m in \u001b[0;36mpredict\u001b[0;34m(self, x, batch_size, verbose, steps)\u001b[0m\n\u001b[1;32m   1833\u001b[0m         \u001b[0mf\u001b[0m \u001b[0;34m=\u001b[0m \u001b[0mself\u001b[0m\u001b[0;34m.\u001b[0m\u001b[0mpredict_function\u001b[0m\u001b[0;34m\u001b[0m\u001b[0m\n\u001b[1;32m   1834\u001b[0m         return self._predict_loop(f, ins, batch_size=batch_size,\n\u001b[0;32m-> 1835\u001b[0;31m                                   verbose=verbose, steps=steps)\n\u001b[0m\u001b[1;32m   1836\u001b[0m \u001b[0;34m\u001b[0m\u001b[0m\n\u001b[1;32m   1837\u001b[0m     def train_on_batch(self, x, y,\n",
      "\u001b[0;32m/usr/local/lib/python3.5/dist-packages/keras/engine/training.py\u001b[0m in \u001b[0;36m_predict_loop\u001b[0;34m(self, f, ins, batch_size, verbose, steps)\u001b[0m\n\u001b[1;32m   1328\u001b[0m                     \u001b[0mins_batch\u001b[0m\u001b[0;34m[\u001b[0m\u001b[0mi\u001b[0m\u001b[0;34m]\u001b[0m \u001b[0;34m=\u001b[0m \u001b[0mins_batch\u001b[0m\u001b[0;34m[\u001b[0m\u001b[0mi\u001b[0m\u001b[0;34m]\u001b[0m\u001b[0;34m.\u001b[0m\u001b[0mtoarray\u001b[0m\u001b[0;34m(\u001b[0m\u001b[0;34m)\u001b[0m\u001b[0;34m\u001b[0m\u001b[0m\n\u001b[1;32m   1329\u001b[0m \u001b[0;34m\u001b[0m\u001b[0m\n\u001b[0;32m-> 1330\u001b[0;31m                 \u001b[0mbatch_outs\u001b[0m \u001b[0;34m=\u001b[0m \u001b[0mf\u001b[0m\u001b[0;34m(\u001b[0m\u001b[0mins_batch\u001b[0m\u001b[0;34m)\u001b[0m\u001b[0;34m\u001b[0m\u001b[0m\n\u001b[0m\u001b[1;32m   1331\u001b[0m                 \u001b[0;32mif\u001b[0m \u001b[0;32mnot\u001b[0m \u001b[0misinstance\u001b[0m\u001b[0;34m(\u001b[0m\u001b[0mbatch_outs\u001b[0m\u001b[0;34m,\u001b[0m \u001b[0mlist\u001b[0m\u001b[0;34m)\u001b[0m\u001b[0;34m:\u001b[0m\u001b[0;34m\u001b[0m\u001b[0m\n\u001b[1;32m   1332\u001b[0m                     \u001b[0mbatch_outs\u001b[0m \u001b[0;34m=\u001b[0m \u001b[0;34m[\u001b[0m\u001b[0mbatch_outs\u001b[0m\u001b[0;34m]\u001b[0m\u001b[0;34m\u001b[0m\u001b[0m\n",
      "\u001b[0;32m/usr/local/lib/python3.5/dist-packages/keras/backend/tensorflow_backend.py\u001b[0m in \u001b[0;36m__call__\u001b[0;34m(self, inputs)\u001b[0m\n\u001b[1;32m   2474\u001b[0m             \u001b[0mfeed_dict\u001b[0m\u001b[0;34m[\u001b[0m\u001b[0mtensor\u001b[0m\u001b[0;34m]\u001b[0m \u001b[0;34m=\u001b[0m \u001b[0mvalue\u001b[0m\u001b[0;34m\u001b[0m\u001b[0m\n\u001b[1;32m   2475\u001b[0m         \u001b[0mfetches\u001b[0m \u001b[0;34m=\u001b[0m \u001b[0mself\u001b[0m\u001b[0;34m.\u001b[0m\u001b[0moutputs\u001b[0m \u001b[0;34m+\u001b[0m \u001b[0;34m[\u001b[0m\u001b[0mself\u001b[0m\u001b[0;34m.\u001b[0m\u001b[0mupdates_op\u001b[0m\u001b[0;34m]\u001b[0m \u001b[0;34m+\u001b[0m \u001b[0mself\u001b[0m\u001b[0;34m.\u001b[0m\u001b[0mfetches\u001b[0m\u001b[0;34m\u001b[0m\u001b[0m\n\u001b[0;32m-> 2476\u001b[0;31m         \u001b[0msession\u001b[0m \u001b[0;34m=\u001b[0m \u001b[0mget_session\u001b[0m\u001b[0;34m(\u001b[0m\u001b[0;34m)\u001b[0m\u001b[0;34m\u001b[0m\u001b[0m\n\u001b[0m\u001b[1;32m   2477\u001b[0m         updated = session.run(fetches=fetches, feed_dict=feed_dict,\n\u001b[1;32m   2478\u001b[0m                               **self.session_kwargs)\n",
      "\u001b[0;32m/usr/local/lib/python3.5/dist-packages/keras/backend/tensorflow_backend.py\u001b[0m in \u001b[0;36mget_session\u001b[0;34m()\u001b[0m\n\u001b[1;32m    184\u001b[0m             \u001b[0mcandidate_vars\u001b[0m \u001b[0;34m=\u001b[0m \u001b[0;34m[\u001b[0m\u001b[0;34m]\u001b[0m\u001b[0;34m\u001b[0m\u001b[0m\n\u001b[1;32m    185\u001b[0m             \u001b[0;32mfor\u001b[0m \u001b[0mv\u001b[0m \u001b[0;32min\u001b[0m \u001b[0mvariables\u001b[0m\u001b[0;34m:\u001b[0m\u001b[0;34m\u001b[0m\u001b[0m\n\u001b[0;32m--> 186\u001b[0;31m                 \u001b[0;32mif\u001b[0m \u001b[0;32mnot\u001b[0m \u001b[0mgetattr\u001b[0m\u001b[0;34m(\u001b[0m\u001b[0mv\u001b[0m\u001b[0;34m,\u001b[0m \u001b[0;34m'_keras_initialized'\u001b[0m\u001b[0;34m,\u001b[0m \u001b[0;32mFalse\u001b[0m\u001b[0;34m)\u001b[0m\u001b[0;34m:\u001b[0m\u001b[0;34m\u001b[0m\u001b[0m\n\u001b[0m\u001b[1;32m    187\u001b[0m                     \u001b[0mcandidate_vars\u001b[0m\u001b[0;34m.\u001b[0m\u001b[0mappend\u001b[0m\u001b[0;34m(\u001b[0m\u001b[0mv\u001b[0m\u001b[0;34m)\u001b[0m\u001b[0;34m\u001b[0m\u001b[0m\n\u001b[1;32m    188\u001b[0m             \u001b[0;32mif\u001b[0m \u001b[0mcandidate_vars\u001b[0m\u001b[0;34m:\u001b[0m\u001b[0;34m\u001b[0m\u001b[0m\n",
      "\u001b[0;31mKeyboardInterrupt\u001b[0m: "
     ]
    }
   ],
   "source": [
    "%%time \n",
    "hist = model.fit(contin_map_train_sample, y_test_10, batch_size=128, epochs=25,\n",
    "                  verbose=0, validation_data=(contin_map_test, y_test_10), \n",
    "                  callbacks=[roc_callback(training_data=(contin_map_train_sample, y_test_10),\n",
    "                                          validation_data=(contin_map_test, y_test_10))])"
   ]
  },
  {
   "cell_type": "code",
   "execution_count": 50,
   "metadata": {},
   "outputs": [],
   "source": [
    "model.compile(loss='binary_crossentropy', optimizer='adam', metrics=['accuracy'])"
   ]
  },
  {
   "cell_type": "code",
   "execution_count": 51,
   "metadata": {},
   "outputs": [
    {
     "name": "stdout",
     "output_type": "stream",
     "text": [
      "roc-auc: 0.5037 - roc-auc_val: 0.5368                                                                                                    \n",
      "roc-auc: 0.5104 - roc-auc_val: 0.4638                                                                                                    \n",
      "roc-auc: 0.5217 - roc-auc_val: 0.5218                                                                                                    \n",
      "roc-auc: 0.5352 - roc-auc_val: 0.5514                                                                                                    \n",
      "roc-auc: 0.5477 - roc-auc_val: 0.578                                                                                                    \n",
      "roc-auc: 0.5555 - roc-auc_val: 0.5267                                                                                                    \n",
      "roc-auc: 0.57 - roc-auc_val: 0.5409                                                                                                    \n",
      "roc-auc: 0.5658 - roc-auc_val: 0.5003                                                                                                    \n",
      "roc-auc: 0.5856 - roc-auc_val: 0.497                                                                                                    \n",
      "roc-auc: 0.6036 - roc-auc_val: 0.4869                                                                                                    \n",
      "roc-auc: 0.6204 - roc-auc_val: 0.5126                                                                                                    \n",
      "roc-auc: 0.6313 - roc-auc_val: 0.5079                                                                                                    \n",
      "roc-auc: 0.6443 - roc-auc_val: 0.4985                                                                                                    \n",
      "roc-auc: 0.6567 - roc-auc_val: 0.5252                                                                                                    \n",
      "roc-auc: 0.665 - roc-auc_val: 0.4925                                                                                                    \n",
      "roc-auc: 0.6764 - roc-auc_val: 0.5198                                                                                                    \n",
      "roc-auc: 0.688 - roc-auc_val: 0.5095                                                                                                    \n",
      "roc-auc: 0.6998 - roc-auc_val: 0.4767                                                                                                    \n",
      "roc-auc: 0.7104 - roc-auc_val: 0.5061                                                                                                    \n",
      "roc-auc: 0.7173 - roc-auc_val: 0.4967                                                                                                    \n",
      "roc-auc: 0.7192 - roc-auc_val: 0.508                                                                                                    \n",
      "roc-auc: 0.7291 - roc-auc_val: 0.5197                                                                                                    \n",
      "roc-auc: 0.7343 - roc-auc_val: 0.4953                                                                                                    \n",
      "roc-auc: 0.7441 - roc-auc_val: 0.5228                                                                                                    \n",
      "roc-auc: 0.7434 - roc-auc_val: 0.508                                                                                                    \n",
      "CPU times: user 38min 17s, sys: 12min 29s, total: 50min 47s\n",
      "Wall time: 4min 15s\n"
     ]
    }
   ],
   "source": [
    "%%time \n",
    "hist = model.fit(contin_map_train_sample, y_test_10, batch_size=128, epochs=25,\n",
    "                  verbose=0, validation_data=(contin_map_test, y_test_10), \n",
    "                  callbacks=[roc_callback(training_data=(contin_map_train_sample, y_test_10),\n",
    "                                          validation_data=(contin_map_test, y_test_10))])"
   ]
  },
  {
   "cell_type": "code",
   "execution_count": 52,
   "metadata": {},
   "outputs": [
    {
     "name": "stdout",
     "output_type": "stream",
     "text": [
      "roc-auc: 0.7585 - roc-auc_val: 0.4947                                                                                                    \n",
      "roc-auc: 0.765 - roc-auc_val: 0.5069                                                                                                    \n",
      "roc-auc: 0.7677 - roc-auc_val: 0.4988                                                                                                    \n",
      "roc-auc: 0.7675 - roc-auc_val: 0.4931                                                                                                    \n",
      "roc-auc: 0.7744 - roc-auc_val: 0.5267                                                                                                    \n",
      "roc-auc: 0.7825 - roc-auc_val: 0.5001                                                                                                    \n",
      "roc-auc: 0.7871 - roc-auc_val: 0.5185                                                                                                    \n",
      "roc-auc: 0.7926 - roc-auc_val: 0.4999                                                                                                    \n",
      "roc-auc: 0.7957 - roc-auc_val: 0.4988                                                                                                    \n",
      "roc-auc: 0.8013 - roc-auc_val: 0.505                                                                                                    \n",
      "roc-auc: 0.8037 - roc-auc_val: 0.5044                                                                                                    \n",
      "roc-auc: 0.8031 - roc-auc_val: 0.5097                                                                                                    \n",
      "roc-auc: 0.8104 - roc-auc_val: 0.4965                                                                                                    \n",
      "roc-auc: 0.8093 - roc-auc_val: 0.5246                                                                                                    \n",
      "roc-auc: 0.8153 - roc-auc_val: 0.5091                                                                                                    \n",
      "roc-auc: 0.8115 - roc-auc_val: 0.5055                                                                                                    \n",
      "roc-auc: 0.82 - roc-auc_val: 0.5132                                                                                                    \n",
      "roc-auc: 0.8243 - roc-auc_val: 0.5086                                                                                                    \n",
      "roc-auc: 0.8206 - roc-auc_val: 0.5165                                                                                                    \n",
      "roc-auc: 0.8287 - roc-auc_val: 0.5188                                                                                                    \n",
      "roc-auc: 0.8316 - roc-auc_val: 0.5113                                                                                                    \n",
      "roc-auc: 0.8349 - roc-auc_val: 0.5158                                                                                                    \n",
      "roc-auc: 0.839 - roc-auc_val: 0.5055                                                                                                    \n",
      "roc-auc: 0.8405 - roc-auc_val: 0.5143                                                                                                    \n",
      "roc-auc: 0.8424 - roc-auc_val: 0.5051                                                                                                    \n",
      "CPU times: user 38min 8s, sys: 12min 31s, total: 50min 39s\n",
      "Wall time: 4min 13s\n"
     ]
    }
   ],
   "source": [
    "%%time \n",
    "hist = model.fit(contin_map_train_sample, y_test_10, batch_size=128, epochs=25,\n",
    "                  verbose=0, validation_data=(contin_map_test, y_test_10), \n",
    "                  callbacks=[roc_callback(training_data=(contin_map_train_sample, y_test_10),\n",
    "                                          validation_data=(contin_map_test, y_test_10))])"
   ]
  },
  {
   "cell_type": "code",
   "execution_count": 53,
   "metadata": {},
   "outputs": [
    {
     "name": "stdout",
     "output_type": "stream",
     "text": [
      "roc-auc: 0.8448 - roc-auc_val: 0.5056                                                                                                    \n",
      "roc-auc: 0.848 - roc-auc_val: 0.5141                                                                                                    \n",
      "roc-auc: 0.8461 - roc-auc_val: 0.5229                                                                                                    \n",
      "roc-auc: 0.8539 - roc-auc_val: 0.5056                                                                                                    \n",
      "roc-auc: 0.8527 - roc-auc_val: 0.5126                                                                                                    \n",
      "roc-auc: 0.8561 - roc-auc_val: 0.5093                                                                                                    \n",
      "roc-auc: 0.8589 - roc-auc_val: 0.5133                                                                                                    \n",
      "roc-auc: 0.8618 - roc-auc_val: 0.5068                                                                                                    \n",
      "roc-auc: 0.862 - roc-auc_val: 0.5054                                                                                                    \n",
      "roc-auc: 0.862 - roc-auc_val: 0.5098                                                                                                    \n",
      "roc-auc: 0.861 - roc-auc_val: 0.515                                                                                                    \n",
      "roc-auc: 0.868 - roc-auc_val: 0.5162                                                                                                    \n",
      "roc-auc: 0.8692 - roc-auc_val: 0.5234                                                                                                    \n",
      "roc-auc: 0.8667 - roc-auc_val: 0.5225                                                                                                    \n",
      "roc-auc: 0.8716 - roc-auc_val: 0.5094                                                                                                    \n",
      "roc-auc: 0.8682 - roc-auc_val: 0.5131                                                                                                    \n",
      "roc-auc: 0.8686 - roc-auc_val: 0.507                                                                                                    \n",
      "roc-auc: 0.876 - roc-auc_val: 0.5061                                                                                                    \n",
      "roc-auc: 0.8728 - roc-auc_val: 0.5299                                                                                                    \n",
      "roc-auc: 0.8768 - roc-auc_val: 0.4882                                                                                                    \n",
      "roc-auc: 0.8798 - roc-auc_val: 0.497                                                                                                    \n",
      "roc-auc: 0.882 - roc-auc_val: 0.5128                                                                                                    \n",
      "roc-auc: 0.8768 - roc-auc_val: 0.5063                                                                                                    \n",
      "roc-auc: 0.8821 - roc-auc_val: 0.5002                                                                                                    \n",
      "roc-auc: 0.8824 - roc-auc_val: 0.5116                                                                                                    \n",
      "CPU times: user 38min 24s, sys: 12min 20s, total: 50min 45s\n",
      "Wall time: 4min 15s\n"
     ]
    }
   ],
   "source": [
    "%%time \n",
    "hist = model.fit(contin_map_train_sample, y_test_10, batch_size=128, epochs=25,\n",
    "                  verbose=0, validation_data=(contin_map_test, y_test_10), \n",
    "                  callbacks=[roc_callback(training_data=(contin_map_train_sample, y_test_10),\n",
    "                                          validation_data=(contin_map_test, y_test_10))])"
   ]
  },
  {
   "cell_type": "code",
   "execution_count": 54,
   "metadata": {},
   "outputs": [
    {
     "name": "stdout",
     "output_type": "stream",
     "text": [
      "roc-auc: 0.8838 - roc-auc_val: 0.4954                                                                                                    \n",
      "roc-auc: 0.8882 - roc-auc_val: 0.502                                                                                                    \n",
      "roc-auc: 0.8876 - roc-auc_val: 0.5062                                                                                                    \n",
      "roc-auc: 0.8873 - roc-auc_val: 0.5231                                                                                                    \n",
      "roc-auc: 0.8834 - roc-auc_val: 0.5155                                                                                                    \n",
      "roc-auc: 0.8833 - roc-auc_val: 0.4965                                                                                                    \n",
      "roc-auc: 0.8915 - roc-auc_val: 0.502                                                                                                    \n",
      "roc-auc: 0.8951 - roc-auc_val: 0.5056                                                                                                    \n",
      "roc-auc: 0.8891 - roc-auc_val: 0.5152                                                                                                    \n",
      "roc-auc: 0.8932 - roc-auc_val: 0.495                                                                                                    \n",
      "roc-auc: 0.8943 - roc-auc_val: 0.5162                                                                                                    \n",
      "roc-auc: 0.8965 - roc-auc_val: 0.504                                                                                                    \n",
      "roc-auc: 0.8943 - roc-auc_val: 0.51                                                                                                    \n",
      "roc-auc: 0.8992 - roc-auc_val: 0.4994                                                                                                    \n",
      "roc-auc: 0.897 - roc-auc_val: 0.5001                                                                                                    \n",
      "roc-auc: 0.8962 - roc-auc_val: 0.5113                                                                                                    \n",
      "roc-auc: 0.8972 - roc-auc_val: 0.5027                                                                                                    \n",
      "roc-auc: 0.8991 - roc-auc_val: 0.4803                                                                                                    \n",
      "roc-auc: 0.9016 - roc-auc_val: 0.51                                                                                                    \n",
      "roc-auc: 0.9006 - roc-auc_val: 0.5055                                                                                                    \n",
      "roc-auc: 0.9052 - roc-auc_val: 0.5126                                                                                                    \n",
      "roc-auc: 0.9008 - roc-auc_val: 0.5094                                                                                                    \n",
      "roc-auc: 0.9024 - roc-auc_val: 0.5029                                                                                                    \n",
      "roc-auc: 0.9061 - roc-auc_val: 0.5195                                                                                                    \n",
      "roc-auc: 0.9046 - roc-auc_val: 0.5079                                                                                                    \n",
      "CPU times: user 38min 2s, sys: 12min 18s, total: 50min 20s\n",
      "Wall time: 4min 12s\n"
     ]
    }
   ],
   "source": [
    "%%time \n",
    "hist = model.fit(contin_map_train_sample, y_test_10, batch_size=128, epochs=25,\n",
    "                  verbose=0, validation_data=(contin_map_test, y_test_10), \n",
    "                  callbacks=[roc_callback(training_data=(contin_map_train_sample, y_test_10),\n",
    "                                          validation_data=(contin_map_test, y_test_10))])"
   ]
  },
  {
   "cell_type": "code",
   "execution_count": 55,
   "metadata": {},
   "outputs": [],
   "source": [
    "preds_2 = model.predict(contin_map_test)"
   ]
  },
  {
   "cell_type": "code",
   "execution_count": 56,
   "metadata": {},
   "outputs": [
    {
     "data": {
      "text/plain": [
       "array([[3.4952011e-02],\n",
       "       [4.6982053e-01],\n",
       "       [4.5216301e-01],\n",
       "       ...,\n",
       "       [4.9953231e-01],\n",
       "       [9.2890739e-01],\n",
       "       [5.1466650e-06]], dtype=float32)"
      ]
     },
     "execution_count": 56,
     "metadata": {},
     "output_type": "execute_result"
    }
   ],
   "source": [
    "preds_2"
   ]
  },
  {
   "cell_type": "code",
   "execution_count": 57,
   "metadata": {},
   "outputs": [],
   "source": [
    "preds_3 = model.predict(contin_map_test, 1024)"
   ]
  },
  {
   "cell_type": "code",
   "execution_count": 58,
   "metadata": {},
   "outputs": [
    {
     "data": {
      "text/plain": [
       "array([[3.4952011e-02],\n",
       "       [4.6982053e-01],\n",
       "       [4.5216301e-01],\n",
       "       ...,\n",
       "       [4.9953231e-01],\n",
       "       [9.2890739e-01],\n",
       "       [5.1466650e-06]], dtype=float32)"
      ]
     },
     "execution_count": 58,
     "metadata": {},
     "output_type": "execute_result"
    }
   ],
   "source": [
    "preds_3"
   ]
  },
  {
   "cell_type": "code",
   "execution_count": null,
   "metadata": {},
   "outputs": [],
   "source": []
  }
 ],
 "metadata": {
  "kernelspec": {
   "display_name": "Python 3",
   "language": "python",
   "name": "python3"
  },
  "language_info": {
   "codemirror_mode": {
    "name": "ipython",
    "version": 3
   },
   "file_extension": ".py",
   "mimetype": "text/x-python",
   "name": "python",
   "nbconvert_exporter": "python",
   "pygments_lexer": "ipython3",
   "version": "3.5.2"
  }
 },
 "nbformat": 4,
 "nbformat_minor": 2
}
